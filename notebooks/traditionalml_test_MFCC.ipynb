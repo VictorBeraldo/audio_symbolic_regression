{
 "cells": [
  {
   "cell_type": "markdown",
   "id": "56d37298",
   "metadata": {},
   "source": [
    "# Audio Spoofing Detection Notebook\n",
    "\n",
    "This notebook aims to detect spoofed audio using various machine learning models. It covers data loading, preprocessing, model training, evaluation, and plotting."
   ]
  },
  {
   "cell_type": "code",
   "execution_count": 1,
   "id": "8bca8ff5",
   "metadata": {},
   "outputs": [],
   "source": [
    "# Setup and Initial Imports\n",
    "%load_ext autoreload\n",
    "%autoreload 2\n",
    "\n",
    "import sys\n",
    "import os\n",
    "import time\n",
    "import pickle\n",
    "import numpy as np\n",
    "import pandas as pd\n",
    "import matplotlib.pyplot as plt\n",
    "import matplotlib.ticker as ticker\n",
    "from tqdm import tqdm\n",
    "\n",
    "# Add the project root folder to PYTHONPATH\n",
    "sys.path.append(os.path.abspath('..'))"
   ]
  },
  {
   "cell_type": "markdown",
   "id": "4b776409",
   "metadata": {},
   "source": [
    "## Import Machine Learning Libraries\n",
    "\n",
    "In this cell, we import the necessary libraries for machine learning and data processing."
   ]
  },
  {
   "cell_type": "code",
   "execution_count": 2,
   "id": "efaa55bc",
   "metadata": {},
   "outputs": [],
   "source": [
    "from sklearn.ensemble import RandomForestClassifier\n",
    "from sklearn.tree import DecisionTreeClassifier\n",
    "from sklearn.linear_model import LogisticRegression\n",
    "from sklearn.model_selection import train_test_split\n",
    "from sklearn.preprocessing import StandardScaler\n",
    "from sklearn.metrics import accuracy_score, confusion_matrix, det_curve\n",
    "from lightgbm import LGBMClassifier\n",
    "from sklearn.neural_network import MLPClassifier\n",
    "from sklearn.svm import SVC\n",
    "from sklearn.model_selection import StratifiedShuffleSplit"
   ]
  },
  {
   "cell_type": "markdown",
   "id": "4a0f6a89",
   "metadata": {},
   "source": [
    "# MFCCs \n",
    "Train using MFCCs Features"
   ]
  },
  {
   "cell_type": "markdown",
   "id": "ccc8b2d1",
   "metadata": {},
   "source": [
    "## Define File Paths\n",
    "\n",
    "Define the paths for the processed features and protocol file. Make sure to adjust these paths as needed."
   ]
  },
  {
   "cell_type": "code",
   "execution_count": 3,
   "id": "57169be4",
   "metadata": {},
   "outputs": [],
   "source": [
    "TEST_FEATURES_MFCC  = \"../data/processed/mfccs_features_ASVspoof2021_DF_eval_part00.pkl\"\n",
    "TRAIN_FEATURES_MFCC = \"../data/processed/mfccs_features.pkl\"\n",
    "TEST_PROTOCOL  = \"../data/raw/DF-keys-full/keys/DF/CM/trial_metadata.txt\"\n",
    "TRAIN_PROTOCOL = \"../data/raw/LA/ASVspoof2019_LA_cm_protocols/ASVspoof2019.LA.cm.train.trn.txt\""
   ]
  },
  {
   "cell_type": "markdown",
   "id": "be23f74d",
   "metadata": {},
   "source": [
    "## Load Features\n",
    "\n",
    "Load the feature data from the pickle file."
   ]
  },
  {
   "cell_type": "code",
   "execution_count": 4,
   "id": "b15537a2",
   "metadata": {},
   "outputs": [],
   "source": [
    "with open(TRAIN_FEATURES_MFCC, 'rb') as f:\n",
    "    train_data = pickle.load(f)\n",
    "with open(TEST_FEATURES_MFCC, 'rb') as f:\n",
    "    test_data = pickle.load(f)"
   ]
  },
  {
   "cell_type": "code",
   "execution_count": 5,
   "id": "f0191abf",
   "metadata": {},
   "outputs": [
    {
     "data": {
      "text/plain": [
       "(25380, 152955)"
      ]
     },
     "execution_count": 5,
     "metadata": {},
     "output_type": "execute_result"
    }
   ],
   "source": [
    "len(train_data), len(test_data)"
   ]
  },
  {
   "cell_type": "code",
   "execution_count": 6,
   "id": "433eaa8a",
   "metadata": {},
   "outputs": [
    {
     "data": {
      "text/plain": [
       "((65,), (65,))"
      ]
     },
     "execution_count": 6,
     "metadata": {},
     "output_type": "execute_result"
    }
   ],
   "source": [
    "train_data[0]['features'].shape,test_data[0]['features'].shape"
   ]
  },
  {
   "cell_type": "markdown",
   "id": "bd2e32c3",
   "metadata": {},
   "source": [
    "## Read Protocol Files\n",
    "\n",
    "Define a function to read the protocol file, which maps audio files to labels, and load the DataFrame for train and test."
   ]
  },
  {
   "cell_type": "code",
   "execution_count": 7,
   "id": "0be4afd9",
   "metadata": {},
   "outputs": [
    {
     "name": "stdout",
     "output_type": "stream",
     "text": [
      "LA_0079 LA_T_1138215 - - bonafide\n",
      "LA_0079 LA_T_1271820 - - bonafide\n",
      "LA_0079 LA_T_1272637 - - bonafide\n",
      "LA_0079 LA_T_1276960 - - bonafide\n",
      "LA_0079 LA_T_1341447 - - bonafide\n",
      "cat: write error: Broken pipe\n"
     ]
    }
   ],
   "source": [
    "! cat '../data/raw/LA/ASVspoof2019_LA_cm_protocols/ASVspoof2019.LA.cm.train.trn.txt' | head -5"
   ]
  },
  {
   "cell_type": "code",
   "execution_count": 8,
   "id": "3d4e0731",
   "metadata": {},
   "outputs": [
    {
     "name": "stdout",
     "output_type": "stream",
     "text": [
      "Train Protocol (first 5 rows):\n"
     ]
    },
    {
     "data": {
      "text/html": [
       "<div>\n",
       "<style scoped>\n",
       "    .dataframe tbody tr th:only-of-type {\n",
       "        vertical-align: middle;\n",
       "    }\n",
       "\n",
       "    .dataframe tbody tr th {\n",
       "        vertical-align: top;\n",
       "    }\n",
       "\n",
       "    .dataframe thead th {\n",
       "        text-align: right;\n",
       "    }\n",
       "</style>\n",
       "<table border=\"1\" class=\"dataframe\">\n",
       "  <thead>\n",
       "    <tr style=\"text-align: right;\">\n",
       "      <th></th>\n",
       "      <th>speaker_id</th>\n",
       "      <th>audio_file</th>\n",
       "      <th>system_id</th>\n",
       "      <th>key</th>\n",
       "    </tr>\n",
       "  </thead>\n",
       "  <tbody>\n",
       "    <tr>\n",
       "      <th>0</th>\n",
       "      <td>LA_0079</td>\n",
       "      <td>LA_T_1138215</td>\n",
       "      <td>-</td>\n",
       "      <td>bonafide</td>\n",
       "    </tr>\n",
       "    <tr>\n",
       "      <th>1</th>\n",
       "      <td>LA_0079</td>\n",
       "      <td>LA_T_1271820</td>\n",
       "      <td>-</td>\n",
       "      <td>bonafide</td>\n",
       "    </tr>\n",
       "    <tr>\n",
       "      <th>2</th>\n",
       "      <td>LA_0079</td>\n",
       "      <td>LA_T_1272637</td>\n",
       "      <td>-</td>\n",
       "      <td>bonafide</td>\n",
       "    </tr>\n",
       "    <tr>\n",
       "      <th>3</th>\n",
       "      <td>LA_0079</td>\n",
       "      <td>LA_T_1276960</td>\n",
       "      <td>-</td>\n",
       "      <td>bonafide</td>\n",
       "    </tr>\n",
       "    <tr>\n",
       "      <th>4</th>\n",
       "      <td>LA_0079</td>\n",
       "      <td>LA_T_1341447</td>\n",
       "      <td>-</td>\n",
       "      <td>bonafide</td>\n",
       "    </tr>\n",
       "  </tbody>\n",
       "</table>\n",
       "</div>"
      ],
      "text/plain": [
       "  speaker_id    audio_file system_id       key\n",
       "0    LA_0079  LA_T_1138215         -  bonafide\n",
       "1    LA_0079  LA_T_1271820         -  bonafide\n",
       "2    LA_0079  LA_T_1272637         -  bonafide\n",
       "3    LA_0079  LA_T_1276960         -  bonafide\n",
       "4    LA_0079  LA_T_1341447         -  bonafide"
      ]
     },
     "execution_count": 8,
     "metadata": {},
     "output_type": "execute_result"
    }
   ],
   "source": [
    "def read_cm_protocol_train(filepath: str) -> pd.DataFrame:\n",
    "    \"\"\"\n",
    "    Reads the ASVspoof2019 LA train protocol file and returns a DataFrame with:\n",
    "      - speaker_id : speaker identifier (e.g. LA_0079)\n",
    "      - audio_file : trial identifier (e.g. LA_T_1138215)\n",
    "      - system_id  : system placeholder ('-')\n",
    "      - key        : bonafide/spoof label\n",
    "\n",
    "    Args:\n",
    "        filepath (str): path to the ASVspoof2019.LA.cm.train.trn.txt file.\n",
    "\n",
    "    Returns:\n",
    "        pd.DataFrame: columns = [speaker_id, audio_file, system_id, key]\n",
    "    \"\"\"\n",
    "    # the file has 5 whitespace-separated fields, the 4th is unused ('-')\n",
    "    col_names = [\"speaker_id\", \"audio_file\", \"system_id\", \"unused\", \"key\"]\n",
    "    df = pd.read_csv(\n",
    "        filepath,\n",
    "        sep=r\"\\s+\",\n",
    "        names=col_names,\n",
    "        engine=\"python\",\n",
    "        index_col=False\n",
    "    )\n",
    "    df = df.drop(columns=[\"unused\"])\n",
    "    return df\n",
    "\n",
    "# Usage example:\n",
    "train_df = read_cm_protocol_train(TRAIN_PROTOCOL)\n",
    "print(\"Train Protocol (first 5 rows):\")\n",
    "train_df.head()\n"
   ]
  },
  {
   "cell_type": "code",
   "execution_count": 9,
   "id": "295ea4a8",
   "metadata": {},
   "outputs": [
    {
     "name": "stdout",
     "output_type": "stream",
     "text": [
      "LA_0023 DF_E_2000011 nocodec asvspoof A14 spoof notrim progress traditional_vocoder - - - -\n",
      "TEF2 DF_E_2000013 low_m4a vcc2020 Task1-team20 spoof notrim eval neural_vocoder_nonautoregressive Task1 team20 FF E\n",
      "TGF1 DF_E_2000024 mp3m4a vcc2020 Task2-team12 spoof notrim eval traditional_vocoder Task2 team12 FF G\n",
      "LA_0043 DF_E_2000026 mp3m4a asvspoof A09 spoof notrim eval traditional_vocoder - - - -\n",
      "LA_0021 DF_E_2000027 mp3m4a asvspoof A12 spoof notrim eval neural_vocoder_autoregressive - - - -\n",
      "cat: write error: Broken pipe\n"
     ]
    }
   ],
   "source": [
    "! cat '../data/raw/DF-keys-full/keys/DF/CM/trial_metadata.txt' | head -5"
   ]
  },
  {
   "cell_type": "code",
   "execution_count": 10,
   "id": "884f2844",
   "metadata": {},
   "outputs": [
    {
     "data": {
      "text/html": [
       "<div>\n",
       "<style scoped>\n",
       "    .dataframe tbody tr th:only-of-type {\n",
       "        vertical-align: middle;\n",
       "    }\n",
       "\n",
       "    .dataframe tbody tr th {\n",
       "        vertical-align: top;\n",
       "    }\n",
       "\n",
       "    .dataframe thead th {\n",
       "        text-align: right;\n",
       "    }\n",
       "</style>\n",
       "<table border=\"1\" class=\"dataframe\">\n",
       "  <thead>\n",
       "    <tr style=\"text-align: right;\">\n",
       "      <th></th>\n",
       "      <th>speaker_id</th>\n",
       "      <th>trial_id</th>\n",
       "      <th>codec</th>\n",
       "      <th>data_source</th>\n",
       "      <th>attack_id</th>\n",
       "      <th>key</th>\n",
       "      <th>trim</th>\n",
       "      <th>subset</th>\n",
       "      <th>vocoder_type</th>\n",
       "    </tr>\n",
       "  </thead>\n",
       "  <tbody>\n",
       "    <tr>\n",
       "      <th>0</th>\n",
       "      <td>LA_0023</td>\n",
       "      <td>DF_E_2000011</td>\n",
       "      <td>nocodec</td>\n",
       "      <td>asvspoof</td>\n",
       "      <td>A14</td>\n",
       "      <td>spoof</td>\n",
       "      <td>notrim</td>\n",
       "      <td>progress</td>\n",
       "      <td>traditional_vocoder</td>\n",
       "    </tr>\n",
       "    <tr>\n",
       "      <th>1</th>\n",
       "      <td>TEF2</td>\n",
       "      <td>DF_E_2000013</td>\n",
       "      <td>low_m4a</td>\n",
       "      <td>vcc2020</td>\n",
       "      <td>Task1-team20</td>\n",
       "      <td>spoof</td>\n",
       "      <td>notrim</td>\n",
       "      <td>eval</td>\n",
       "      <td>neural_vocoder_nonautoregressive</td>\n",
       "    </tr>\n",
       "    <tr>\n",
       "      <th>2</th>\n",
       "      <td>TGF1</td>\n",
       "      <td>DF_E_2000024</td>\n",
       "      <td>mp3m4a</td>\n",
       "      <td>vcc2020</td>\n",
       "      <td>Task2-team12</td>\n",
       "      <td>spoof</td>\n",
       "      <td>notrim</td>\n",
       "      <td>eval</td>\n",
       "      <td>traditional_vocoder</td>\n",
       "    </tr>\n",
       "    <tr>\n",
       "      <th>3</th>\n",
       "      <td>LA_0043</td>\n",
       "      <td>DF_E_2000026</td>\n",
       "      <td>mp3m4a</td>\n",
       "      <td>asvspoof</td>\n",
       "      <td>A09</td>\n",
       "      <td>spoof</td>\n",
       "      <td>notrim</td>\n",
       "      <td>eval</td>\n",
       "      <td>traditional_vocoder</td>\n",
       "    </tr>\n",
       "    <tr>\n",
       "      <th>4</th>\n",
       "      <td>LA_0021</td>\n",
       "      <td>DF_E_2000027</td>\n",
       "      <td>mp3m4a</td>\n",
       "      <td>asvspoof</td>\n",
       "      <td>A12</td>\n",
       "      <td>spoof</td>\n",
       "      <td>notrim</td>\n",
       "      <td>eval</td>\n",
       "      <td>neural_vocoder_autoregressive</td>\n",
       "    </tr>\n",
       "  </tbody>\n",
       "</table>\n",
       "</div>"
      ],
      "text/plain": [
       "  speaker_id      trial_id    codec data_source     attack_id    key    trim  \\\n",
       "0    LA_0023  DF_E_2000011  nocodec    asvspoof           A14  spoof  notrim   \n",
       "1       TEF2  DF_E_2000013  low_m4a     vcc2020  Task1-team20  spoof  notrim   \n",
       "2       TGF1  DF_E_2000024   mp3m4a     vcc2020  Task2-team12  spoof  notrim   \n",
       "3    LA_0043  DF_E_2000026   mp3m4a    asvspoof           A09  spoof  notrim   \n",
       "4    LA_0021  DF_E_2000027   mp3m4a    asvspoof           A12  spoof  notrim   \n",
       "\n",
       "     subset                      vocoder_type  \n",
       "0  progress               traditional_vocoder  \n",
       "1      eval  neural_vocoder_nonautoregressive  \n",
       "2      eval               traditional_vocoder  \n",
       "3      eval               traditional_vocoder  \n",
       "4      eval     neural_vocoder_autoregressive  "
      ]
     },
     "execution_count": 10,
     "metadata": {},
     "output_type": "execute_result"
    }
   ],
   "source": [
    "def read_cm_protocol_test(filepath: str) -> pd.DataFrame:\n",
    "    \"\"\"\n",
    "    Reads a CM protocol file and returns a DataFrame with the following columns:\n",
    "      - speaker_id     : speaker identifier (e.g., LA_0023)\n",
    "      - trial_id       : trial identifier (e.g., DF_E_2000011)\n",
    "      - codec          : compression codec (e.g., nocodec, low_mp3, high_ogg, etc.)\n",
    "      - data_source    : data origin (asvspoof, vcc2018, vcc2020)\n",
    "      - attack_id      : spoofing attack code (A07–A19)\n",
    "      - key            : trial label (bonafide or spoof)\n",
    "      - trim           : speech trimming flag (notrim or trim)\n",
    "      - subset         : subset name (eval, progress, hidden)\n",
    "      - vocoder_type   : vocoder category\n",
    "    The remaining four fields (always “-”) are discarded.\n",
    "    \"\"\"\n",
    "    # Define all 13 column names but only keep the first 9\n",
    "    column_names = [\n",
    "        \"speaker_id\", \"trial_id\", \"codec\", \"data_source\", \"attack_id\",\n",
    "        \"key\", \"trim\", \"subset\", \"vocoder_type\",\n",
    "        \"unused1\", \"unused2\", \"unused3\", \"unused4\"\n",
    "    ]\n",
    "    \n",
    "    # Read using any amount of whitespace as delimiter\n",
    "    df = pd.read_csv(\n",
    "        filepath,\n",
    "        sep=r\"\\s+\",\n",
    "        names=column_names,\n",
    "        engine=\"python\",\n",
    "        index_col=False\n",
    "    )\n",
    "    \n",
    "    # Drop the unused placeholder columns\n",
    "    df = df.drop(columns=[\"unused1\", \"unused2\", \"unused3\", \"unused4\"])\n",
    "    \n",
    "    return df\n",
    "\n",
    "# Example usage:\n",
    "test_df = read_cm_protocol_test(TEST_PROTOCOL)\n",
    "test_df.head()"
   ]
  },
  {
   "cell_type": "markdown",
   "id": "49010eb1",
   "metadata": {},
   "source": [
    "## Create DataFrame for Features and Labels\n",
    "\n",
    "Create a DataFrame where each row contains a file name and its corresponding features. Label 1 represents \"spoof\" and 0 represents \"bonafide\"."
   ]
  },
  {
   "cell_type": "code",
   "execution_count": 11,
   "id": "c2b3d48e",
   "metadata": {},
   "outputs": [
    {
     "data": {
      "text/plain": [
       "((25380, 4), (611829, 9))"
      ]
     },
     "execution_count": 11,
     "metadata": {},
     "output_type": "execute_result"
    }
   ],
   "source": [
    "train_df.shape, test_df.shape"
   ]
  },
  {
   "cell_type": "code",
   "execution_count": 12,
   "id": "7b5c266f",
   "metadata": {},
   "outputs": [],
   "source": [
    "def create_labeled_df(data: list, protocol_df: pd.DataFrame, id_col: str) -> pd.DataFrame:\n",
    "    # map trial ID → label\n",
    "    label_map = dict(zip(protocol_df[id_col], protocol_df['key']))\n",
    "    # build raw features DataFrame\n",
    "    n_feats = len(data[0]['features'])\n",
    "    cols = ['file'] + [f'feature_{i}' for i in range(n_feats)]\n",
    "    df = pd.DataFrame([ (d['file'], *d['features']) for d in data ], columns=cols)\n",
    "    # strip extension and map to 0/1\n",
    "    df['trial_id'] = df['file'].str.replace(r'\\.(wav|flac)$','',regex=True)\n",
    "    df['label'] = (df['trial_id']\n",
    "                   .map(label_map)\n",
    "                   .fillna('bonafide')\n",
    "                   .map({'spoof':1,'bonafide':0}))\n",
    "    return df.drop(columns=['trial_id'])\n",
    "\n",
    "# -- Create feature+label DataFrames\n",
    "train_features_df = create_labeled_df(train_data, train_df, 'audio_file')\n",
    "test_features_df  = create_labeled_df(test_data,  test_df,  'trial_id')"
   ]
  },
  {
   "cell_type": "code",
   "execution_count": 13,
   "id": "cd883743",
   "metadata": {},
   "outputs": [
    {
     "name": "stdout",
     "output_type": "stream",
     "text": [
      "train_features_df: (25380, 67)\n",
      "                file   feature_0  feature_1  feature_2  feature_3  feature_4  \\\n",
      "0  LA_T_1000137.flac -186.137070  54.793228   3.915742  16.703880  -1.721935   \n",
      "1  LA_T_1000406.flac -225.814316  53.599209  10.532258   8.022465  -0.546644   \n",
      "2  LA_T_1000648.flac -173.666489  38.751335  -1.859477  13.582756 -16.484320   \n",
      "3  LA_T_1000824.flac -186.383438  61.379250  -1.629011  16.329111  -1.895309   \n",
      "4  LA_T_1001074.flac -185.253693  47.000889  -4.990513  19.525072 -13.188167   \n",
      "\n",
      "   feature_5  feature_6  feature_7  feature_8  ...  feature_56  feature_57  \\\n",
      "0  -3.024596  -7.241035  -7.158428  -0.440404  ...   -0.677109   -0.359691   \n",
      "1   0.568174  -2.825076  -6.415648  -5.956281  ...    1.884709    1.567901   \n",
      "2 -18.154762 -17.342602  -7.274408  -4.847965  ...  -16.719315  -21.401167   \n",
      "3  -5.954535   0.229328  -9.138353   0.799044  ...   -1.093427   -3.207566   \n",
      "4  -5.515487 -14.815706  -8.166029   4.133137  ...  -11.959820   -4.500638   \n",
      "\n",
      "   feature_58  feature_59  feature_60  feature_61  feature_62  feature_63  \\\n",
      "0   -8.963872   -6.019045    0.997102   -6.033530   -0.489982   -0.241275   \n",
      "1   -1.904062   -6.535663   -2.749441    0.751082   -1.618791   -0.401514   \n",
      "2  -17.152380   -8.210505   -4.474253   -7.485901   -9.012123   -0.457300   \n",
      "3    0.134260   -5.912055    1.193438    1.076324    2.302650    3.990741   \n",
      "4  -15.679319   -9.086051    5.016636    1.373321   -1.309799   -4.209567   \n",
      "\n",
      "   feature_64  label  \n",
      "0   -5.527712      1  \n",
      "1   -0.296605      0  \n",
      "2  -10.286652      1  \n",
      "3    2.292634      1  \n",
      "4   -4.216858      1  \n",
      "\n",
      "[5 rows x 67 columns]\n"
     ]
    }
   ],
   "source": [
    "# -- Inspect\n",
    "print(f\"train_features_df: {train_features_df.shape}\")\n",
    "print(train_features_df.head())"
   ]
  },
  {
   "cell_type": "code",
   "execution_count": 14,
   "id": "2fdce2db",
   "metadata": {},
   "outputs": [
    {
     "name": "stdout",
     "output_type": "stream",
     "text": [
      "test_features_df: (152955, 67)\n",
      "                file   feature_0  feature_1  feature_2  feature_3  feature_4  \\\n",
      "0  DF_E_2000011.flac -183.029816  53.594749   6.502794  23.713448  -6.812164   \n",
      "1  DF_E_2000013.flac -147.759583  55.648998  -9.145004   5.765539  -1.485224   \n",
      "2  DF_E_2000024.flac -181.115097  36.232967   5.530079   8.817776  -2.925058   \n",
      "3  DF_E_2000026.flac -192.302017  44.145832 -17.993023  12.577341 -27.314383   \n",
      "4  DF_E_2000027.flac -200.842987  59.302391  -3.426141  18.605337  -6.155945   \n",
      "\n",
      "   feature_5  feature_6  feature_7  feature_8  ...  feature_56  feature_57  \\\n",
      "0  -1.257358 -13.453055  -2.699144   3.778417  ...   -5.388440    2.589064   \n",
      "1 -15.735766 -14.241953  -6.264246  -6.774808  ...   -1.195416  -16.616369   \n",
      "2  -5.193137 -12.757902  -4.065773  -2.191934  ...   -2.451173   -4.228351   \n",
      "3  -8.005426 -13.602574  -9.886981  -2.366805  ...  -30.273594   -8.776144   \n",
      "4 -10.445595  -4.298768  -5.100154  -4.758731  ...   -3.877526   -7.084597   \n",
      "\n",
      "   feature_58  feature_59  feature_60  feature_61  feature_62  feature_63  \\\n",
      "0  -13.573932   -1.368799    2.993749   -2.968370   -1.215878   -2.691308   \n",
      "1  -14.445469   -6.387687   -6.782444   -4.890465   -2.958007   -6.920672   \n",
      "2  -12.589089   -3.852827   -2.041361   -1.498363   -4.044509   -6.424101   \n",
      "3  -13.956657   -8.894216   -0.992239   -5.953894   -5.038424   -8.468940   \n",
      "4   -2.839139   -3.725754   -3.171340    4.220980    0.000111    3.732786   \n",
      "\n",
      "   feature_64  label  \n",
      "0   -4.179948      1  \n",
      "1   -6.205867      1  \n",
      "2   -7.372120      1  \n",
      "3   -5.563604      1  \n",
      "4   -4.875399      1  \n",
      "\n",
      "[5 rows x 67 columns]\n"
     ]
    }
   ],
   "source": [
    "print(f\"test_features_df: {test_features_df.shape}\")\n",
    "print(test_features_df.head())"
   ]
  },
  {
   "cell_type": "markdown",
   "id": "480086cd",
   "metadata": {},
   "source": [
    "## Data Exploration\n",
    "\n",
    "Display the distribution of labels to verify the balance of the dataset."
   ]
  },
  {
   "cell_type": "code",
   "execution_count": 15,
   "id": "9a299697",
   "metadata": {},
   "outputs": [
    {
     "name": "stdout",
     "output_type": "stream",
     "text": [
      "\n",
      "Train set label distribution:\n",
      "          Count  Percent (%)\n",
      "label                       \n",
      "spoof     22800        89.83\n",
      "bonafide   2580        10.17\n",
      "\n",
      "Test set label distribution:\n",
      "           Count  Percent (%)\n",
      "label                        \n",
      "spoof     147420        96.38\n",
      "bonafide    5535         3.62\n"
     ]
    }
   ],
   "source": [
    "def summarize_label_distribution(df: pd.DataFrame, name: str) -> pd.DataFrame:\n",
    "    \"\"\"\n",
    "    Returns a summary DataFrame with counts and percentages of bona-fide vs spoof labels.\n",
    "    \n",
    "    Args:\n",
    "        df   : DataFrame containing a 'label' column (0 = bonafide, 1 = spoof)\n",
    "        name : identifier for printing (e.g., \"Train\", \"Test\")\n",
    "    \"\"\"\n",
    "    # map 0/1 → string labels\n",
    "    label_map = {0: \"bonafide\", 1: \"spoof\"}\n",
    "    \n",
    "    # count and percentage\n",
    "    dist = df[\"label\"].value_counts().rename(index=label_map)\n",
    "    pct  = df[\"label\"].value_counts(normalize=True).mul(100).rename(index=label_map).round(2)\n",
    "    \n",
    "    summary = pd.DataFrame({\n",
    "        \"Count\":       dist,\n",
    "        \"Percent (%)\": pct\n",
    "    })\n",
    "    \n",
    "    print(f\"\\n{name} set label distribution:\")\n",
    "    print(summary)\n",
    "    return summary\n",
    "\n",
    "# Usage for train and test sets\n",
    "train_summary = summarize_label_distribution(train_features_df, \"Train\")\n",
    "test_summary  = summarize_label_distribution(test_features_df,  \"Test\")"
   ]
  },
  {
   "cell_type": "markdown",
   "id": "ea354463",
   "metadata": {},
   "source": [
    "## Data Preprocessing\n",
    "\n",
    "Separate the features (X) and labels (y), standardize the features, and split the data into training and testing sets."
   ]
  },
  {
   "cell_type": "code",
   "execution_count": 16,
   "id": "69853a6b",
   "metadata": {},
   "outputs": [],
   "source": [
    "# Prepare feature matrices and label vectors from pre-defined train/test DataFrames\n",
    "X_train = train_features_df.drop(columns=[\"file\", \"label\"]).values\n",
    "y_train = train_features_df[\"label\"].values\n",
    "\n",
    "X_test  = test_features_df.drop(columns=[\"file\", \"label\"]).values\n",
    "y_test  = test_features_df[\"label\"].values\n",
    "\n",
    "# Fit scaler on train only, then transform both\n",
    "scaler = StandardScaler()\n",
    "X_train = scaler.fit_transform(X_train)\n",
    "X_test  = scaler.transform(X_test)\n"
   ]
  },
  {
   "cell_type": "markdown",
   "id": "5388b2ee",
   "metadata": {},
   "source": [
    "## Define, Train, and Evaluate Models\n",
    "\n",
    "Define a dictionary of models, then train and evaluate each one. For each model, we calculate the training time, accuracy, confusion matrix, and Equal Error Rate (EER)."
   ]
  },
  {
   "cell_type": "code",
   "execution_count": 53,
   "id": "77a2c265",
   "metadata": {},
   "outputs": [],
   "source": [
    "def stratified_subsample(X, y, frac, random_state):\n",
    "    \"\"\"Return a stratified subsample of (X, y).\"\"\"\n",
    "    if frac >= 1.0:\n",
    "        return X, y\n",
    "    sss = StratifiedShuffleSplit(n_splits=1, train_size=frac, random_state=random_state)\n",
    "    idx, _ = next(sss.split(X, y))\n",
    "    return X[idx], y[idx]\n",
    "\n",
    "def plot_nist_det(fpr_tr, fnr_tr, fpr_ts, fnr_ts, title):\n",
    "    import matplotlib.pyplot as plt\n",
    "    import matplotlib.ticker as ticker\n",
    "    import numpy as np\n",
    "\n",
    "    # -> porcentagem\n",
    "    fpr_tr *= 100; fnr_tr *= 100\n",
    "    fpr_ts *= 100; fnr_ts *= 100\n",
    "\n",
    "    # ---------- EER (train) ----------\n",
    "    idx_tr  = np.nanargmin(np.abs(fnr_tr - fpr_tr))\n",
    "    eer_tr  = (fpr_tr[idx_tr] + fnr_tr[idx_tr]) / 2  # boa aproximação\n",
    "    # Interpola fnr_tr para o FPR = eer_tr\n",
    "    fnr_tr_eer = np.interp(eer_tr, fpr_tr[::-1], fnr_tr[::-1])\n",
    "\n",
    "    # ---------- EER (test) ----------\n",
    "    idx_ts  = np.nanargmin(np.abs(fnr_ts - fpr_ts))\n",
    "    eer_ts  = (fpr_ts[idx_ts] + fnr_ts[idx_ts]) / 2\n",
    "    fnr_ts_eer = np.interp(eer_ts, fpr_ts[::-1], fnr_ts[::-1])\n",
    "\n",
    "    ticks = [0.1,0.2,0.5,1,2,5,10,20,50]\n",
    "\n",
    "    fig, ax = plt.subplots()\n",
    "    ax.plot(fpr_tr, fnr_tr, label=\"Train DET\", linewidth=1.5)\n",
    "    ax.plot(fpr_ts, fnr_ts, label=\"Test DET\",  linewidth=1.5)\n",
    "\n",
    "    # ◉ ponto EER (train)\n",
    "    ax.plot(eer_tr, fnr_tr_eer, \"ro\",  markersize=5,\n",
    "            label=f\"EER train = {eer_tr:.2f}%\")\n",
    "    # ◉ ponto EER (test)\n",
    "    ax.plot(eer_ts, fnr_ts_eer, \"rx\",  markersize=6,\n",
    "            label=f\"EER test  = {eer_ts:.2f}%\")\n",
    "\n",
    "    ax.set_xscale(\"log\"); ax.set_yscale(\"log\")\n",
    "    ax.set_xlim(min(ticks), max(ticks)); ax.set_ylim(min(ticks), max(ticks))\n",
    "    ax.set_xticks(ticks); ax.set_yticks(ticks)\n",
    "    ax.xaxis.set_major_formatter(ticker.ScalarFormatter())\n",
    "    ax.yaxis.set_major_formatter(ticker.ScalarFormatter())\n",
    "    ax.plot(ticks, ticks, \"--\", color=\"grey\", linewidth=1)\n",
    "\n",
    "    ax.set_xlabel(\"False Acceptance Rate (%)\")\n",
    "    ax.set_ylabel(\"False Rejection Rate (%)\")\n",
    "    ax.set_title(title)\n",
    "    ax.grid(which=\"both\", linestyle=\"--\", linewidth=0.5)\n",
    "    ax.legend(loc=\"lower right\", fontsize=8)\n",
    "    plt.tight_layout()\n",
    "    plt.show()\n"
   ]
  },
  {
   "cell_type": "code",
   "execution_count": 62,
   "id": "676bd964",
   "metadata": {},
   "outputs": [],
   "source": [
    "SAMPLE_FRAC         = 1    # keep % of each set\n",
    "SAMPLE_RANDOM_STATE = 42     # reproducible subsampling\n",
    "\n",
    "SEEDS = range(1, 11)          # seeds 1…20\n",
    "TICKS = [0.1, 0.2, 0.5, 1, 2, 5, 10, 20, 50]"
   ]
  },
  {
   "cell_type": "code",
   "execution_count": 63,
   "id": "b17dd053",
   "metadata": {},
   "outputs": [],
   "source": [
    "# Prepare metrics CSV including EER_train\n",
    "test_csv = \"model_metrics_test_mfcc.csv\"\n",
    "if not os.path.exists(test_csv):\n",
    "    pd.DataFrame(\n",
    "        columns=[\"Model\", \"Training Time (sec)\", \"Accuracy\", \"EER_train\", \"EER\"]\n",
    "    ).to_csv(test_csv, index=False)\n",
    "    \n",
    "# Base directory where each model's folder will be created\n",
    "base_dir = \"../models/test\""
   ]
  },
  {
   "cell_type": "code",
   "execution_count": 64,
   "id": "4acc1684",
   "metadata": {},
   "outputs": [
    {
     "name": "stdout",
     "output_type": "stream",
     "text": [
      "Subsampled train: 25380/25380 samples\n",
      "Subsampled test : 152955/152955 samples\n",
      "\n",
      "Training and evaluating models on subsampled data...\n",
      "\n"
     ]
    }
   ],
   "source": [
    "# Subsample both train and test sets\n",
    "X_train_sub, y_train_sub = stratified_subsample(X_train, y_train, SAMPLE_FRAC, SAMPLE_RANDOM_STATE)\n",
    "X_test_sub,  y_test_sub  = stratified_subsample(X_test,  y_test,  SAMPLE_FRAC, SAMPLE_RANDOM_STATE)\n",
    "\n",
    "print(f\"Subsampled train: {len(y_train_sub)}/{len(y_train)} samples\")\n",
    "print(f\"Subsampled test : {len(y_test_sub)}/{len(y_test)} samples\\n\")\n",
    "\n",
    "# Training & evaluation loop on subsampled data\n",
    "print(\"Training and evaluating models on subsampled data...\\n\")"
   ]
  },
  {
   "cell_type": "code",
   "execution_count": 65,
   "id": "6161e84d",
   "metadata": {},
   "outputs": [],
   "source": [
    "import warnings\n",
    "\n",
    "# suprime só o warning “X does not have valid feature names…”\n",
    "warnings.filterwarnings(\n",
    "    \"ignore\",\n",
    "    message=\"X does not have valid feature names*\",\n",
    "    category=UserWarning\n",
    ")"
   ]
  },
  {
   "cell_type": "code",
   "execution_count": 66,
   "id": "3746ce4e",
   "metadata": {},
   "outputs": [
    {
     "data": {
      "text/plain": [
       "25380"
      ]
     },
     "execution_count": 66,
     "metadata": {},
     "output_type": "execute_result"
    }
   ],
   "source": [
    "len(X_train_sub)"
   ]
  },
  {
   "cell_type": "code",
   "execution_count": null,
   "id": "435cefdf",
   "metadata": {},
   "outputs": [
    {
     "name": "stdout",
     "output_type": "stream",
     "text": [
      "Training and evaluating models with multiple seeds…\n",
      "\n",
      "--- Random Forest ---\n",
      "seed 01 → train EER 0.000, test EER 0.282\n",
      "seed 02 → train EER 0.000, test EER 0.274\n",
      "seed 03 → train EER 0.000, test EER 0.294\n",
      "seed 04 → train EER 0.000, test EER 0.280\n",
      "seed 05 → train EER 0.000, test EER 0.282\n",
      "seed 06 → train EER 0.000, test EER 0.279\n",
      "seed 07 → train EER 0.000, test EER 0.272\n",
      "seed 08 → train EER 0.000, test EER 0.288\n",
      "seed 09 → train EER 0.000, test EER 0.292\n",
      "seed 10 → train EER 0.000, test EER 0.276\n"
     ]
    },
    {
     "name": "stderr",
     "output_type": "stream",
     "text": [
      "/tmp/ipykernel_21613/3977286202.py:38: UserWarning: Attempt to set non-positive xlim on a log-scaled axis will be ignored.\n",
      "  ax.set_xlim(min(ticks), max(ticks)); ax.set_ylim(min(ticks), max(ticks))\n",
      "/tmp/ipykernel_21613/3977286202.py:38: UserWarning: Attempt to set non-positive ylim on a log-scaled axis will be ignored.\n",
      "  ax.set_xlim(min(ticks), max(ticks)); ax.set_ylim(min(ticks), max(ticks))\n"
     ]
    },
    {
     "data": {
      "image/png": "[encoded data removed]",
      "text/plain": [
       "<Figure size 640x480 with 1 Axes>"
      ]
     },
     "metadata": {},
     "output_type": "display_data"
    },
    {
     "name": "stdout",
     "output_type": "stream",
     "text": [
      "--- Decision Tree ---\n",
      "seed 01 → train EER 0.000, test EER 0.665\n",
      "seed 02 → train EER 0.000, test EER 0.652\n",
      "seed 03 → train EER 0.000, test EER 0.656\n",
      "seed 04 → train EER 0.000, test EER 0.651\n",
      "seed 05 → train EER 0.000, test EER 0.656\n",
      "seed 06 → train EER 0.000, test EER 0.653\n",
      "seed 07 → train EER 0.000, test EER 0.653\n",
      "seed 08 → train EER 0.000, test EER 0.654\n",
      "seed 09 → train EER 0.000, test EER 0.649\n",
      "seed 10 → train EER 0.000, test EER 0.655\n"
     ]
    },
    {
     "name": "stderr",
     "output_type": "stream",
     "text": [
      "/tmp/ipykernel_21613/3977286202.py:38: UserWarning: Attempt to set non-positive xlim on a log-scaled axis will be ignored.\n",
      "  ax.set_xlim(min(ticks), max(ticks)); ax.set_ylim(min(ticks), max(ticks))\n",
      "/tmp/ipykernel_21613/3977286202.py:38: UserWarning: Attempt to set non-positive ylim on a log-scaled axis will be ignored.\n",
      "  ax.set_xlim(min(ticks), max(ticks)); ax.set_ylim(min(ticks), max(ticks))\n"
     ]
    },
    {
     "ename": "ValueError",
     "evalue": "math domain error",
     "output_type": "error",
     "traceback": [
      "\u001b[31m---------------------------------------------------------------------------\u001b[39m",
      "\u001b[31mValueError\u001b[39m                                Traceback (most recent call last)",
      "\u001b[36mCell\u001b[39m\u001b[36m \u001b[39m\u001b[32mIn[67]\u001b[39m\u001b[32m, line 156\u001b[39m\n\u001b[32m    151\u001b[39m interp_fnr_ts = np.vstack(\n\u001b[32m    152\u001b[39m     [np.interp(grid, f, fn) \u001b[38;5;28;01mfor\u001b[39;00m f, fn \u001b[38;5;129;01min\u001b[39;00m \u001b[38;5;28mzip\u001b[39m(all_fpr_ts, all_fnr_ts)]\n\u001b[32m    153\u001b[39m )\n\u001b[32m    154\u001b[39m mean_fnr_tr, mean_fnr_ts = interp_fnr_tr.mean(\u001b[32m0\u001b[39m), interp_fnr_ts.mean(\u001b[32m0\u001b[39m)\n\u001b[32m--> \u001b[39m\u001b[32m156\u001b[39m \u001b[43mplot_nist_det\u001b[49m\u001b[43m(\u001b[49m\n\u001b[32m    157\u001b[39m \u001b[43m    \u001b[49m\u001b[43mgrid\u001b[49m\u001b[43m,\u001b[49m\u001b[43m \u001b[49m\u001b[43mmean_fnr_tr\u001b[49m\u001b[43m,\u001b[49m\n\u001b[32m    158\u001b[39m \u001b[43m    \u001b[49m\u001b[43mgrid\u001b[49m\u001b[43m,\u001b[49m\u001b[43m \u001b[49m\u001b[43mmean_fnr_ts\u001b[49m\u001b[43m,\u001b[49m\n\u001b[32m    159\u001b[39m \u001b[43m    \u001b[49m\u001b[43mtitle\u001b[49m\u001b[43m=\u001b[49m\u001b[33;43mf\u001b[39;49m\u001b[33;43m\"\u001b[39;49m\u001b[33;43mMean DET Curve – \u001b[39;49m\u001b[38;5;132;43;01m{\u001b[39;49;00m\u001b[43mname\u001b[49m\u001b[38;5;132;43;01m}\u001b[39;49;00m\u001b[33;43m\"\u001b[39;49m\u001b[43m,\u001b[49m\n\u001b[32m    160\u001b[39m \u001b[43m\u001b[49m\u001b[43m)\u001b[49m\n",
      "\u001b[36mCell\u001b[39m\u001b[36m \u001b[39m\u001b[32mIn[67]\u001b[39m\u001b[32m, line 49\u001b[39m, in \u001b[36mplot_nist_det\u001b[39m\u001b[34m(fpr_tr, fnr_tr, fpr_ts, fnr_ts, title)\u001b[39m\n\u001b[32m     47\u001b[39m ax.grid(which=\u001b[33m\"\u001b[39m\u001b[33mboth\u001b[39m\u001b[33m\"\u001b[39m, linestyle=\u001b[33m\"\u001b[39m\u001b[33m--\u001b[39m\u001b[33m\"\u001b[39m, linewidth=\u001b[32m0.5\u001b[39m)\n\u001b[32m     48\u001b[39m ax.legend(loc=\u001b[33m\"\u001b[39m\u001b[33mlower right\u001b[39m\u001b[33m\"\u001b[39m, fontsize=\u001b[32m8\u001b[39m)\n\u001b[32m---> \u001b[39m\u001b[32m49\u001b[39m \u001b[43mplt\u001b[49m\u001b[43m.\u001b[49m\u001b[43mtight_layout\u001b[49m\u001b[43m(\u001b[49m\u001b[43m)\u001b[49m\n\u001b[32m     50\u001b[39m plt.show()\n",
      "\u001b[36mFile \u001b[39m\u001b[32m~/victo/audio_symbolic_regression/audio_symbolic_regression_env/lib/python3.11/site-packages/matplotlib/pyplot.py:2833\u001b[39m, in \u001b[36mtight_layout\u001b[39m\u001b[34m(pad, h_pad, w_pad, rect)\u001b[39m\n\u001b[32m   2825\u001b[39m \u001b[38;5;129m@_copy_docstring_and_deprecators\u001b[39m(Figure.tight_layout)\n\u001b[32m   2826\u001b[39m \u001b[38;5;28;01mdef\u001b[39;00m\u001b[38;5;250m \u001b[39m\u001b[34mtight_layout\u001b[39m(\n\u001b[32m   2827\u001b[39m     *,\n\u001b[32m   (...)\u001b[39m\u001b[32m   2831\u001b[39m     rect: \u001b[38;5;28mtuple\u001b[39m[\u001b[38;5;28mfloat\u001b[39m, \u001b[38;5;28mfloat\u001b[39m, \u001b[38;5;28mfloat\u001b[39m, \u001b[38;5;28mfloat\u001b[39m] | \u001b[38;5;28;01mNone\u001b[39;00m = \u001b[38;5;28;01mNone\u001b[39;00m,\n\u001b[32m   2832\u001b[39m ) -> \u001b[38;5;28;01mNone\u001b[39;00m:\n\u001b[32m-> \u001b[39m\u001b[32m2833\u001b[39m     \u001b[43mgcf\u001b[49m\u001b[43m(\u001b[49m\u001b[43m)\u001b[49m\u001b[43m.\u001b[49m\u001b[43mtight_layout\u001b[49m\u001b[43m(\u001b[49m\u001b[43mpad\u001b[49m\u001b[43m=\u001b[49m\u001b[43mpad\u001b[49m\u001b[43m,\u001b[49m\u001b[43m \u001b[49m\u001b[43mh_pad\u001b[49m\u001b[43m=\u001b[49m\u001b[43mh_pad\u001b[49m\u001b[43m,\u001b[49m\u001b[43m \u001b[49m\u001b[43mw_pad\u001b[49m\u001b[43m=\u001b[49m\u001b[43mw_pad\u001b[49m\u001b[43m,\u001b[49m\u001b[43m \u001b[49m\u001b[43mrect\u001b[49m\u001b[43m=\u001b[49m\u001b[43mrect\u001b[49m\u001b[43m)\u001b[49m\n",
      "\u001b[36mFile \u001b[39m\u001b[32m~/victo/audio_symbolic_regression/audio_symbolic_regression_env/lib/python3.11/site-packages/matplotlib/figure.py:3640\u001b[39m, in \u001b[36mFigure.tight_layout\u001b[39m\u001b[34m(self, pad, h_pad, w_pad, rect)\u001b[39m\n\u001b[32m   3638\u001b[39m previous_engine = \u001b[38;5;28mself\u001b[39m.get_layout_engine()\n\u001b[32m   3639\u001b[39m \u001b[38;5;28mself\u001b[39m.set_layout_engine(engine)\n\u001b[32m-> \u001b[39m\u001b[32m3640\u001b[39m \u001b[43mengine\u001b[49m\u001b[43m.\u001b[49m\u001b[43mexecute\u001b[49m\u001b[43m(\u001b[49m\u001b[38;5;28;43mself\u001b[39;49m\u001b[43m)\u001b[49m\n\u001b[32m   3641\u001b[39m \u001b[38;5;28;01mif\u001b[39;00m previous_engine \u001b[38;5;129;01mis\u001b[39;00m \u001b[38;5;129;01mnot\u001b[39;00m \u001b[38;5;28;01mNone\u001b[39;00m \u001b[38;5;129;01mand\u001b[39;00m \u001b[38;5;129;01mnot\u001b[39;00m \u001b[38;5;28misinstance\u001b[39m(\n\u001b[32m   3642\u001b[39m     previous_engine, (TightLayoutEngine, PlaceHolderLayoutEngine)\n\u001b[32m   3643\u001b[39m ):\n\u001b[32m   3644\u001b[39m     _api.warn_external(\u001b[33m'\u001b[39m\u001b[33mThe figure layout has changed to tight\u001b[39m\u001b[33m'\u001b[39m)\n",
      "\u001b[36mFile \u001b[39m\u001b[32m~/victo/audio_symbolic_regression/audio_symbolic_regression_env/lib/python3.11/site-packages/matplotlib/layout_engine.py:183\u001b[39m, in \u001b[36mTightLayoutEngine.execute\u001b[39m\u001b[34m(self, fig)\u001b[39m\n\u001b[32m    181\u001b[39m renderer = fig._get_renderer()\n\u001b[32m    182\u001b[39m \u001b[38;5;28;01mwith\u001b[39;00m \u001b[38;5;28mgetattr\u001b[39m(renderer, \u001b[33m\"\u001b[39m\u001b[33m_draw_disabled\u001b[39m\u001b[33m\"\u001b[39m, nullcontext)():\n\u001b[32m--> \u001b[39m\u001b[32m183\u001b[39m     kwargs = \u001b[43mget_tight_layout_figure\u001b[49m\u001b[43m(\u001b[49m\n\u001b[32m    184\u001b[39m \u001b[43m        \u001b[49m\u001b[43mfig\u001b[49m\u001b[43m,\u001b[49m\u001b[43m \u001b[49m\u001b[43mfig\u001b[49m\u001b[43m.\u001b[49m\u001b[43maxes\u001b[49m\u001b[43m,\u001b[49m\u001b[43m \u001b[49m\u001b[43mget_subplotspec_list\u001b[49m\u001b[43m(\u001b[49m\u001b[43mfig\u001b[49m\u001b[43m.\u001b[49m\u001b[43maxes\u001b[49m\u001b[43m)\u001b[49m\u001b[43m,\u001b[49m\u001b[43m \u001b[49m\u001b[43mrenderer\u001b[49m\u001b[43m,\u001b[49m\n\u001b[32m    185\u001b[39m \u001b[43m        \u001b[49m\u001b[43mpad\u001b[49m\u001b[43m=\u001b[49m\u001b[43minfo\u001b[49m\u001b[43m[\u001b[49m\u001b[33;43m'\u001b[39;49m\u001b[33;43mpad\u001b[39;49m\u001b[33;43m'\u001b[39;49m\u001b[43m]\u001b[49m\u001b[43m,\u001b[49m\u001b[43m \u001b[49m\u001b[43mh_pad\u001b[49m\u001b[43m=\u001b[49m\u001b[43minfo\u001b[49m\u001b[43m[\u001b[49m\u001b[33;43m'\u001b[39;49m\u001b[33;43mh_pad\u001b[39;49m\u001b[33;43m'\u001b[39;49m\u001b[43m]\u001b[49m\u001b[43m,\u001b[49m\u001b[43m \u001b[49m\u001b[43mw_pad\u001b[49m\u001b[43m=\u001b[49m\u001b[43minfo\u001b[49m\u001b[43m[\u001b[49m\u001b[33;43m'\u001b[39;49m\u001b[33;43mw_pad\u001b[39;49m\u001b[33;43m'\u001b[39;49m\u001b[43m]\u001b[49m\u001b[43m,\u001b[49m\n\u001b[32m    186\u001b[39m \u001b[43m        \u001b[49m\u001b[43mrect\u001b[49m\u001b[43m=\u001b[49m\u001b[43minfo\u001b[49m\u001b[43m[\u001b[49m\u001b[33;43m'\u001b[39;49m\u001b[33;43mrect\u001b[39;49m\u001b[33;43m'\u001b[39;49m\u001b[43m]\u001b[49m\u001b[43m)\u001b[49m\n\u001b[32m    187\u001b[39m \u001b[38;5;28;01mif\u001b[39;00m kwargs:\n\u001b[32m    188\u001b[39m     fig.subplots_adjust(**kwargs)\n",
      "\u001b[36mFile \u001b[39m\u001b[32m~/victo/audio_symbolic_regression/audio_symbolic_regression_env/lib/python3.11/site-packages/matplotlib/_tight_layout.py:266\u001b[39m, in \u001b[36mget_tight_layout_figure\u001b[39m\u001b[34m(fig, axes_list, subplotspec_list, renderer, pad, h_pad, w_pad, rect)\u001b[39m\n\u001b[32m    261\u001b[39m         \u001b[38;5;28;01mreturn\u001b[39;00m {}\n\u001b[32m    262\u001b[39m     span_pairs.append((\n\u001b[32m    263\u001b[39m         \u001b[38;5;28mslice\u001b[39m(ss.rowspan.start * div_row, ss.rowspan.stop * div_row),\n\u001b[32m    264\u001b[39m         \u001b[38;5;28mslice\u001b[39m(ss.colspan.start * div_col, ss.colspan.stop * div_col)))\n\u001b[32m--> \u001b[39m\u001b[32m266\u001b[39m kwargs = \u001b[43m_auto_adjust_subplotpars\u001b[49m\u001b[43m(\u001b[49m\u001b[43mfig\u001b[49m\u001b[43m,\u001b[49m\u001b[43m \u001b[49m\u001b[43mrenderer\u001b[49m\u001b[43m,\u001b[49m\n\u001b[32m    267\u001b[39m \u001b[43m                                  \u001b[49m\u001b[43mshape\u001b[49m\u001b[43m=\u001b[49m\u001b[43m(\u001b[49m\u001b[43mmax_nrows\u001b[49m\u001b[43m,\u001b[49m\u001b[43m \u001b[49m\u001b[43mmax_ncols\u001b[49m\u001b[43m)\u001b[49m\u001b[43m,\u001b[49m\n\u001b[32m    268\u001b[39m \u001b[43m                                  \u001b[49m\u001b[43mspan_pairs\u001b[49m\u001b[43m=\u001b[49m\u001b[43mspan_pairs\u001b[49m\u001b[43m,\u001b[49m\n\u001b[32m    269\u001b[39m \u001b[43m                                  \u001b[49m\u001b[43msubplot_list\u001b[49m\u001b[43m=\u001b[49m\u001b[43msubplot_list\u001b[49m\u001b[43m,\u001b[49m\n\u001b[32m    270\u001b[39m \u001b[43m                                  \u001b[49m\u001b[43max_bbox_list\u001b[49m\u001b[43m=\u001b[49m\u001b[43max_bbox_list\u001b[49m\u001b[43m,\u001b[49m\n\u001b[32m    271\u001b[39m \u001b[43m                                  \u001b[49m\u001b[43mpad\u001b[49m\u001b[43m=\u001b[49m\u001b[43mpad\u001b[49m\u001b[43m,\u001b[49m\u001b[43m \u001b[49m\u001b[43mh_pad\u001b[49m\u001b[43m=\u001b[49m\u001b[43mh_pad\u001b[49m\u001b[43m,\u001b[49m\u001b[43m \u001b[49m\u001b[43mw_pad\u001b[49m\u001b[43m=\u001b[49m\u001b[43mw_pad\u001b[49m\u001b[43m)\u001b[49m\n\u001b[32m    273\u001b[39m \u001b[38;5;66;03m# kwargs can be none if tight_layout fails...\u001b[39;00m\n\u001b[32m    274\u001b[39m \u001b[38;5;28;01mif\u001b[39;00m rect \u001b[38;5;129;01mis\u001b[39;00m \u001b[38;5;129;01mnot\u001b[39;00m \u001b[38;5;28;01mNone\u001b[39;00m \u001b[38;5;129;01mand\u001b[39;00m kwargs \u001b[38;5;129;01mis\u001b[39;00m \u001b[38;5;129;01mnot\u001b[39;00m \u001b[38;5;28;01mNone\u001b[39;00m:\n\u001b[32m    275\u001b[39m     \u001b[38;5;66;03m# if rect is given, the whole subplots area (including\u001b[39;00m\n\u001b[32m    276\u001b[39m     \u001b[38;5;66;03m# labels) will fit into the rect instead of the\u001b[39;00m\n\u001b[32m   (...)\u001b[39m\u001b[32m    280\u001b[39m     \u001b[38;5;66;03m# auto_adjust_subplotpars twice, where the second run\u001b[39;00m\n\u001b[32m    281\u001b[39m     \u001b[38;5;66;03m# with adjusted rect parameters.\u001b[39;00m\n",
      "\u001b[36mFile \u001b[39m\u001b[32m~/victo/audio_symbolic_regression/audio_symbolic_regression_env/lib/python3.11/site-packages/matplotlib/_tight_layout.py:82\u001b[39m, in \u001b[36m_auto_adjust_subplotpars\u001b[39m\u001b[34m(fig, renderer, shape, span_pairs, subplot_list, ax_bbox_list, pad, h_pad, w_pad, rect)\u001b[39m\n\u001b[32m     80\u001b[39m \u001b[38;5;28;01mfor\u001b[39;00m ax \u001b[38;5;129;01min\u001b[39;00m subplots:\n\u001b[32m     81\u001b[39m     \u001b[38;5;28;01mif\u001b[39;00m ax.get_visible():\n\u001b[32m---> \u001b[39m\u001b[32m82\u001b[39m         bb += [\u001b[43mmartist\u001b[49m\u001b[43m.\u001b[49m\u001b[43m_get_tightbbox_for_layout_only\u001b[49m\u001b[43m(\u001b[49m\u001b[43max\u001b[49m\u001b[43m,\u001b[49m\u001b[43m \u001b[49m\u001b[43mrenderer\u001b[49m\u001b[43m)\u001b[49m]\n\u001b[32m     84\u001b[39m tight_bbox_raw = Bbox.union(bb)\n\u001b[32m     85\u001b[39m tight_bbox = fig.transFigure.inverted().transform_bbox(tight_bbox_raw)\n",
      "\u001b[36mFile \u001b[39m\u001b[32m~/victo/audio_symbolic_regression/audio_symbolic_regression_env/lib/python3.11/site-packages/matplotlib/artist.py:1402\u001b[39m, in \u001b[36m_get_tightbbox_for_layout_only\u001b[39m\u001b[34m(obj, *args, **kwargs)\u001b[39m\n\u001b[32m   1396\u001b[39m \u001b[38;5;250m\u001b[39m\u001b[33;03m\"\"\"\u001b[39;00m\n\u001b[32m   1397\u001b[39m \u001b[33;03mMatplotlib's `.Axes.get_tightbbox` and `.Axis.get_tightbbox` support a\u001b[39;00m\n\u001b[32m   1398\u001b[39m \u001b[33;03m*for_layout_only* kwarg; this helper tries to use the kwarg but skips it\u001b[39;00m\n\u001b[32m   1399\u001b[39m \u001b[33;03mwhen encountering third-party subclasses that do not support it.\u001b[39;00m\n\u001b[32m   1400\u001b[39m \u001b[33;03m\"\"\"\u001b[39;00m\n\u001b[32m   1401\u001b[39m \u001b[38;5;28;01mtry\u001b[39;00m:\n\u001b[32m-> \u001b[39m\u001b[32m1402\u001b[39m     \u001b[38;5;28;01mreturn\u001b[39;00m \u001b[43mobj\u001b[49m\u001b[43m.\u001b[49m\u001b[43mget_tightbbox\u001b[49m\u001b[43m(\u001b[49m\u001b[43m*\u001b[49m\u001b[43margs\u001b[49m\u001b[43m,\u001b[49m\u001b[43m \u001b[49m\u001b[43m*\u001b[49m\u001b[43m*\u001b[49m\u001b[43m{\u001b[49m\u001b[43m*\u001b[49m\u001b[43m*\u001b[49m\u001b[43mkwargs\u001b[49m\u001b[43m,\u001b[49m\u001b[43m \u001b[49m\u001b[33;43m\"\u001b[39;49m\u001b[33;43mfor_layout_only\u001b[39;49m\u001b[33;43m\"\u001b[39;49m\u001b[43m:\u001b[49m\u001b[43m \u001b[49m\u001b[38;5;28;43;01mTrue\u001b[39;49;00m\u001b[43m}\u001b[49m\u001b[43m)\u001b[49m\n\u001b[32m   1403\u001b[39m \u001b[38;5;28;01mexcept\u001b[39;00m \u001b[38;5;167;01mTypeError\u001b[39;00m:\n\u001b[32m   1404\u001b[39m     \u001b[38;5;28;01mreturn\u001b[39;00m obj.get_tightbbox(*args, **kwargs)\n",
      "\u001b[36mFile \u001b[39m\u001b[32m~/victo/audio_symbolic_regression/audio_symbolic_regression_env/lib/python3.11/site-packages/matplotlib/axes/_base.py:4548\u001b[39m, in \u001b[36m_AxesBase.get_tightbbox\u001b[39m\u001b[34m(self, renderer, call_axes_locator, bbox_extra_artists, for_layout_only)\u001b[39m\n\u001b[32m   4546\u001b[39m \u001b[38;5;28;01mfor\u001b[39;00m axis \u001b[38;5;129;01min\u001b[39;00m \u001b[38;5;28mself\u001b[39m._axis_map.values():\n\u001b[32m   4547\u001b[39m     \u001b[38;5;28;01mif\u001b[39;00m \u001b[38;5;28mself\u001b[39m.axison \u001b[38;5;129;01mand\u001b[39;00m axis.get_visible():\n\u001b[32m-> \u001b[39m\u001b[32m4548\u001b[39m         ba = \u001b[43mmartist\u001b[49m\u001b[43m.\u001b[49m\u001b[43m_get_tightbbox_for_layout_only\u001b[49m\u001b[43m(\u001b[49m\u001b[43maxis\u001b[49m\u001b[43m,\u001b[49m\u001b[43m \u001b[49m\u001b[43mrenderer\u001b[49m\u001b[43m)\u001b[49m\n\u001b[32m   4549\u001b[39m         \u001b[38;5;28;01mif\u001b[39;00m ba:\n\u001b[32m   4550\u001b[39m             bb.append(ba)\n",
      "\u001b[36mFile \u001b[39m\u001b[32m~/victo/audio_symbolic_regression/audio_symbolic_regression_env/lib/python3.11/site-packages/matplotlib/artist.py:1402\u001b[39m, in \u001b[36m_get_tightbbox_for_layout_only\u001b[39m\u001b[34m(obj, *args, **kwargs)\u001b[39m\n\u001b[32m   1396\u001b[39m \u001b[38;5;250m\u001b[39m\u001b[33;03m\"\"\"\u001b[39;00m\n\u001b[32m   1397\u001b[39m \u001b[33;03mMatplotlib's `.Axes.get_tightbbox` and `.Axis.get_tightbbox` support a\u001b[39;00m\n\u001b[32m   1398\u001b[39m \u001b[33;03m*for_layout_only* kwarg; this helper tries to use the kwarg but skips it\u001b[39;00m\n\u001b[32m   1399\u001b[39m \u001b[33;03mwhen encountering third-party subclasses that do not support it.\u001b[39;00m\n\u001b[32m   1400\u001b[39m \u001b[33;03m\"\"\"\u001b[39;00m\n\u001b[32m   1401\u001b[39m \u001b[38;5;28;01mtry\u001b[39;00m:\n\u001b[32m-> \u001b[39m\u001b[32m1402\u001b[39m     \u001b[38;5;28;01mreturn\u001b[39;00m \u001b[43mobj\u001b[49m\u001b[43m.\u001b[49m\u001b[43mget_tightbbox\u001b[49m\u001b[43m(\u001b[49m\u001b[43m*\u001b[49m\u001b[43margs\u001b[49m\u001b[43m,\u001b[49m\u001b[43m \u001b[49m\u001b[43m*\u001b[49m\u001b[43m*\u001b[49m\u001b[43m{\u001b[49m\u001b[43m*\u001b[49m\u001b[43m*\u001b[49m\u001b[43mkwargs\u001b[49m\u001b[43m,\u001b[49m\u001b[43m \u001b[49m\u001b[33;43m\"\u001b[39;49m\u001b[33;43mfor_layout_only\u001b[39;49m\u001b[33;43m\"\u001b[39;49m\u001b[43m:\u001b[49m\u001b[43m \u001b[49m\u001b[38;5;28;43;01mTrue\u001b[39;49;00m\u001b[43m}\u001b[49m\u001b[43m)\u001b[49m\n\u001b[32m   1403\u001b[39m \u001b[38;5;28;01mexcept\u001b[39;00m \u001b[38;5;167;01mTypeError\u001b[39;00m:\n\u001b[32m   1404\u001b[39m     \u001b[38;5;28;01mreturn\u001b[39;00m obj.get_tightbbox(*args, **kwargs)\n",
      "\u001b[36mFile \u001b[39m\u001b[32m~/victo/audio_symbolic_regression/audio_symbolic_regression_env/lib/python3.11/site-packages/matplotlib/axis.py:1351\u001b[39m, in \u001b[36mAxis.get_tightbbox\u001b[39m\u001b[34m(self, renderer, for_layout_only)\u001b[39m\n\u001b[32m   1349\u001b[39m \u001b[38;5;28;01mif\u001b[39;00m renderer \u001b[38;5;129;01mis\u001b[39;00m \u001b[38;5;28;01mNone\u001b[39;00m:\n\u001b[32m   1350\u001b[39m     renderer = \u001b[38;5;28mself\u001b[39m.get_figure(root=\u001b[38;5;28;01mTrue\u001b[39;00m)._get_renderer()\n\u001b[32m-> \u001b[39m\u001b[32m1351\u001b[39m ticks_to_draw = \u001b[38;5;28;43mself\u001b[39;49m\u001b[43m.\u001b[49m\u001b[43m_update_ticks\u001b[49m\u001b[43m(\u001b[49m\u001b[43m)\u001b[49m\n\u001b[32m   1353\u001b[39m \u001b[38;5;28mself\u001b[39m._update_label_position(renderer)\n\u001b[32m   1355\u001b[39m \u001b[38;5;66;03m# go back to just this axis's tick labels\u001b[39;00m\n",
      "\u001b[36mFile \u001b[39m\u001b[32m~/victo/audio_symbolic_regression/audio_symbolic_regression_env/lib/python3.11/site-packages/matplotlib/axis.py:1288\u001b[39m, in \u001b[36mAxis._update_ticks\u001b[39m\u001b[34m(self)\u001b[39m\n\u001b[32m   1286\u001b[39m     tick.label1.set_text(label)\n\u001b[32m   1287\u001b[39m     tick.label2.set_text(label)\n\u001b[32m-> \u001b[39m\u001b[32m1288\u001b[39m minor_locs = \u001b[38;5;28;43mself\u001b[39;49m\u001b[43m.\u001b[49m\u001b[43mget_minorticklocs\u001b[49m\u001b[43m(\u001b[49m\u001b[43m)\u001b[49m\n\u001b[32m   1289\u001b[39m minor_labels = \u001b[38;5;28mself\u001b[39m.minor.formatter.format_ticks(minor_locs)\n\u001b[32m   1290\u001b[39m minor_ticks = \u001b[38;5;28mself\u001b[39m.get_minor_ticks(\u001b[38;5;28mlen\u001b[39m(minor_locs))\n",
      "\u001b[36mFile \u001b[39m\u001b[32m~/victo/audio_symbolic_regression/audio_symbolic_regression_env/lib/python3.11/site-packages/matplotlib/axis.py:1530\u001b[39m, in \u001b[36mAxis.get_minorticklocs\u001b[39m\u001b[34m(self)\u001b[39m\n\u001b[32m   1528\u001b[39m \u001b[38;5;250m\u001b[39m\u001b[33;03m\"\"\"Return this Axis' minor tick locations in data coordinates.\"\"\"\u001b[39;00m\n\u001b[32m   1529\u001b[39m \u001b[38;5;66;03m# Remove minor ticks duplicating major ticks.\u001b[39;00m\n\u001b[32m-> \u001b[39m\u001b[32m1530\u001b[39m minor_locs = np.asarray(\u001b[38;5;28;43mself\u001b[39;49m\u001b[43m.\u001b[49m\u001b[43mminor\u001b[49m\u001b[43m.\u001b[49m\u001b[43mlocator\u001b[49m\u001b[43m(\u001b[49m\u001b[43m)\u001b[49m)\n\u001b[32m   1531\u001b[39m \u001b[38;5;28;01mif\u001b[39;00m \u001b[38;5;28mself\u001b[39m.remove_overlapping_locs:\n\u001b[32m   1532\u001b[39m     major_locs = \u001b[38;5;28mself\u001b[39m.major.locator()\n",
      "\u001b[36mFile \u001b[39m\u001b[32m~/victo/audio_symbolic_regression/audio_symbolic_regression_env/lib/python3.11/site-packages/matplotlib/ticker.py:2401\u001b[39m, in \u001b[36mLogLocator.__call__\u001b[39m\u001b[34m(self)\u001b[39m\n\u001b[32m   2399\u001b[39m \u001b[38;5;250m\u001b[39m\u001b[33;03m\"\"\"Return the locations of the ticks.\"\"\"\u001b[39;00m\n\u001b[32m   2400\u001b[39m vmin, vmax = \u001b[38;5;28mself\u001b[39m.axis.get_view_interval()\n\u001b[32m-> \u001b[39m\u001b[32m2401\u001b[39m \u001b[38;5;28;01mreturn\u001b[39;00m \u001b[38;5;28;43mself\u001b[39;49m\u001b[43m.\u001b[49m\u001b[43mtick_values\u001b[49m\u001b[43m(\u001b[49m\u001b[43mvmin\u001b[49m\u001b[43m,\u001b[49m\u001b[43m \u001b[49m\u001b[43mvmax\u001b[49m\u001b[43m)\u001b[49m\n",
      "\u001b[36mFile \u001b[39m\u001b[32m~/victo/audio_symbolic_regression/audio_symbolic_regression_env/lib/python3.11/site-packages/matplotlib/ticker.py:2425\u001b[39m, in \u001b[36mLogLocator.tick_values\u001b[39m\u001b[34m(self, vmin, vmax)\u001b[39m\n\u001b[32m   2423\u001b[39m \u001b[38;5;28;01mif\u001b[39;00m vmax < vmin:\n\u001b[32m   2424\u001b[39m     vmin, vmax = vmax, vmin\n\u001b[32m-> \u001b[39m\u001b[32m2425\u001b[39m log_vmin = \u001b[43mmath\u001b[49m\u001b[43m.\u001b[49m\u001b[43mlog\u001b[49m\u001b[43m(\u001b[49m\u001b[43mvmin\u001b[49m\u001b[43m)\u001b[49m / math.log(b)\n\u001b[32m   2426\u001b[39m log_vmax = math.log(vmax) / math.log(b)\n\u001b[32m   2428\u001b[39m numdec = math.floor(log_vmax) - math.ceil(log_vmin)\n",
      "\u001b[31mValueError\u001b[39m: math domain error"
     ]
    },
    {
     "name": "stdout",
     "output_type": "stream",
     "text": [
      "Error in callback <function _draw_all_if_interactive at 0x7f041e578e00> (for post_execute), with arguments args (),kwargs {}:\n"
     ]
    },
    {
     "ename": "ValueError",
     "evalue": "math domain error",
     "output_type": "error",
     "traceback": [
      "\u001b[31m---------------------------------------------------------------------------\u001b[39m",
      "\u001b[31mValueError\u001b[39m                                Traceback (most recent call last)",
      "\u001b[36mFile \u001b[39m\u001b[32m~/victo/audio_symbolic_regression/audio_symbolic_regression_env/lib/python3.11/site-packages/matplotlib/pyplot.py:279\u001b[39m, in \u001b[36m_draw_all_if_interactive\u001b[39m\u001b[34m()\u001b[39m\n\u001b[32m    277\u001b[39m \u001b[38;5;28;01mdef\u001b[39;00m\u001b[38;5;250m \u001b[39m\u001b[34m_draw_all_if_interactive\u001b[39m() -> \u001b[38;5;28;01mNone\u001b[39;00m:\n\u001b[32m    278\u001b[39m     \u001b[38;5;28;01mif\u001b[39;00m matplotlib.is_interactive():\n\u001b[32m--> \u001b[39m\u001b[32m279\u001b[39m         \u001b[43mdraw_all\u001b[49m\u001b[43m(\u001b[49m\u001b[43m)\u001b[49m\n",
      "\u001b[36mFile \u001b[39m\u001b[32m~/victo/audio_symbolic_regression/audio_symbolic_regression_env/lib/python3.11/site-packages/matplotlib/_pylab_helpers.py:131\u001b[39m, in \u001b[36mGcf.draw_all\u001b[39m\u001b[34m(cls, force)\u001b[39m\n\u001b[32m    129\u001b[39m \u001b[38;5;28;01mfor\u001b[39;00m manager \u001b[38;5;129;01min\u001b[39;00m \u001b[38;5;28mcls\u001b[39m.get_all_fig_managers():\n\u001b[32m    130\u001b[39m     \u001b[38;5;28;01mif\u001b[39;00m force \u001b[38;5;129;01mor\u001b[39;00m manager.canvas.figure.stale:\n\u001b[32m--> \u001b[39m\u001b[32m131\u001b[39m         \u001b[43mmanager\u001b[49m\u001b[43m.\u001b[49m\u001b[43mcanvas\u001b[49m\u001b[43m.\u001b[49m\u001b[43mdraw_idle\u001b[49m\u001b[43m(\u001b[49m\u001b[43m)\u001b[49m\n",
      "\u001b[36mFile \u001b[39m\u001b[32m~/victo/audio_symbolic_regression/audio_symbolic_regression_env/lib/python3.11/site-packages/matplotlib/backend_bases.py:1891\u001b[39m, in \u001b[36mFigureCanvasBase.draw_idle\u001b[39m\u001b[34m(self, *args, **kwargs)\u001b[39m\n\u001b[32m   1889\u001b[39m \u001b[38;5;28;01mif\u001b[39;00m \u001b[38;5;129;01mnot\u001b[39;00m \u001b[38;5;28mself\u001b[39m._is_idle_drawing:\n\u001b[32m   1890\u001b[39m     \u001b[38;5;28;01mwith\u001b[39;00m \u001b[38;5;28mself\u001b[39m._idle_draw_cntx():\n\u001b[32m-> \u001b[39m\u001b[32m1891\u001b[39m         \u001b[38;5;28;43mself\u001b[39;49m\u001b[43m.\u001b[49m\u001b[43mdraw\u001b[49m\u001b[43m(\u001b[49m\u001b[43m*\u001b[49m\u001b[43margs\u001b[49m\u001b[43m,\u001b[49m\u001b[43m \u001b[49m\u001b[43m*\u001b[49m\u001b[43m*\u001b[49m\u001b[43mkwargs\u001b[49m\u001b[43m)\u001b[49m\n",
      "\u001b[36mFile \u001b[39m\u001b[32m~/victo/audio_symbolic_regression/audio_symbolic_regression_env/lib/python3.11/site-packages/matplotlib/backends/backend_agg.py:382\u001b[39m, in \u001b[36mFigureCanvasAgg.draw\u001b[39m\u001b[34m(self)\u001b[39m\n\u001b[32m    379\u001b[39m \u001b[38;5;66;03m# Acquire a lock on the shared font cache.\u001b[39;00m\n\u001b[32m    380\u001b[39m \u001b[38;5;28;01mwith\u001b[39;00m (\u001b[38;5;28mself\u001b[39m.toolbar._wait_cursor_for_draw_cm() \u001b[38;5;28;01mif\u001b[39;00m \u001b[38;5;28mself\u001b[39m.toolbar\n\u001b[32m    381\u001b[39m       \u001b[38;5;28;01melse\u001b[39;00m nullcontext()):\n\u001b[32m--> \u001b[39m\u001b[32m382\u001b[39m     \u001b[38;5;28;43mself\u001b[39;49m\u001b[43m.\u001b[49m\u001b[43mfigure\u001b[49m\u001b[43m.\u001b[49m\u001b[43mdraw\u001b[49m\u001b[43m(\u001b[49m\u001b[38;5;28;43mself\u001b[39;49m\u001b[43m.\u001b[49m\u001b[43mrenderer\u001b[49m\u001b[43m)\u001b[49m\n\u001b[32m    383\u001b[39m     \u001b[38;5;66;03m# A GUI class may be need to update a window using this draw, so\u001b[39;00m\n\u001b[32m    384\u001b[39m     \u001b[38;5;66;03m# don't forget to call the superclass.\u001b[39;00m\n\u001b[32m    385\u001b[39m     \u001b[38;5;28msuper\u001b[39m().draw()\n",
      "\u001b[36mFile \u001b[39m\u001b[32m~/victo/audio_symbolic_regression/audio_symbolic_regression_env/lib/python3.11/site-packages/matplotlib/artist.py:94\u001b[39m, in \u001b[36m_finalize_rasterization.<locals>.draw_wrapper\u001b[39m\u001b[34m(artist, renderer, *args, **kwargs)\u001b[39m\n\u001b[32m     92\u001b[39m \u001b[38;5;129m@wraps\u001b[39m(draw)\n\u001b[32m     93\u001b[39m \u001b[38;5;28;01mdef\u001b[39;00m\u001b[38;5;250m \u001b[39m\u001b[34mdraw_wrapper\u001b[39m(artist, renderer, *args, **kwargs):\n\u001b[32m---> \u001b[39m\u001b[32m94\u001b[39m     result = \u001b[43mdraw\u001b[49m\u001b[43m(\u001b[49m\u001b[43martist\u001b[49m\u001b[43m,\u001b[49m\u001b[43m \u001b[49m\u001b[43mrenderer\u001b[49m\u001b[43m,\u001b[49m\u001b[43m \u001b[49m\u001b[43m*\u001b[49m\u001b[43margs\u001b[49m\u001b[43m,\u001b[49m\u001b[43m \u001b[49m\u001b[43m*\u001b[49m\u001b[43m*\u001b[49m\u001b[43mkwargs\u001b[49m\u001b[43m)\u001b[49m\n\u001b[32m     95\u001b[39m     \u001b[38;5;28;01mif\u001b[39;00m renderer._rasterizing:\n\u001b[32m     96\u001b[39m         renderer.stop_rasterizing()\n",
      "\u001b[36mFile \u001b[39m\u001b[32m~/victo/audio_symbolic_regression/audio_symbolic_regression_env/lib/python3.11/site-packages/matplotlib/artist.py:71\u001b[39m, in \u001b[36mallow_rasterization.<locals>.draw_wrapper\u001b[39m\u001b[34m(artist, renderer)\u001b[39m\n\u001b[32m     68\u001b[39m     \u001b[38;5;28;01mif\u001b[39;00m artist.get_agg_filter() \u001b[38;5;129;01mis\u001b[39;00m \u001b[38;5;129;01mnot\u001b[39;00m \u001b[38;5;28;01mNone\u001b[39;00m:\n\u001b[32m     69\u001b[39m         renderer.start_filter()\n\u001b[32m---> \u001b[39m\u001b[32m71\u001b[39m     \u001b[38;5;28;01mreturn\u001b[39;00m \u001b[43mdraw\u001b[49m\u001b[43m(\u001b[49m\u001b[43martist\u001b[49m\u001b[43m,\u001b[49m\u001b[43m \u001b[49m\u001b[43mrenderer\u001b[49m\u001b[43m)\u001b[49m\n\u001b[32m     72\u001b[39m \u001b[38;5;28;01mfinally\u001b[39;00m:\n\u001b[32m     73\u001b[39m     \u001b[38;5;28;01mif\u001b[39;00m artist.get_agg_filter() \u001b[38;5;129;01mis\u001b[39;00m \u001b[38;5;129;01mnot\u001b[39;00m \u001b[38;5;28;01mNone\u001b[39;00m:\n",
      "\u001b[36mFile \u001b[39m\u001b[32m~/victo/audio_symbolic_regression/audio_symbolic_regression_env/lib/python3.11/site-packages/matplotlib/figure.py:3257\u001b[39m, in \u001b[36mFigure.draw\u001b[39m\u001b[34m(self, renderer)\u001b[39m\n\u001b[32m   3254\u001b[39m             \u001b[38;5;66;03m# ValueError can occur when resizing a window.\u001b[39;00m\n\u001b[32m   3256\u001b[39m     \u001b[38;5;28mself\u001b[39m.patch.draw(renderer)\n\u001b[32m-> \u001b[39m\u001b[32m3257\u001b[39m     \u001b[43mmimage\u001b[49m\u001b[43m.\u001b[49m\u001b[43m_draw_list_compositing_images\u001b[49m\u001b[43m(\u001b[49m\n\u001b[32m   3258\u001b[39m \u001b[43m        \u001b[49m\u001b[43mrenderer\u001b[49m\u001b[43m,\u001b[49m\u001b[43m \u001b[49m\u001b[38;5;28;43mself\u001b[39;49m\u001b[43m,\u001b[49m\u001b[43m \u001b[49m\u001b[43martists\u001b[49m\u001b[43m,\u001b[49m\u001b[43m \u001b[49m\u001b[38;5;28;43mself\u001b[39;49m\u001b[43m.\u001b[49m\u001b[43msuppressComposite\u001b[49m\u001b[43m)\u001b[49m\n\u001b[32m   3260\u001b[39m     renderer.close_group(\u001b[33m'\u001b[39m\u001b[33mfigure\u001b[39m\u001b[33m'\u001b[39m)\n\u001b[32m   3261\u001b[39m \u001b[38;5;28;01mfinally\u001b[39;00m:\n",
      "\u001b[36mFile \u001b[39m\u001b[32m~/victo/audio_symbolic_regression/audio_symbolic_regression_env/lib/python3.11/site-packages/matplotlib/image.py:134\u001b[39m, in \u001b[36m_draw_list_compositing_images\u001b[39m\u001b[34m(renderer, parent, artists, suppress_composite)\u001b[39m\n\u001b[32m    132\u001b[39m \u001b[38;5;28;01mif\u001b[39;00m not_composite \u001b[38;5;129;01mor\u001b[39;00m \u001b[38;5;129;01mnot\u001b[39;00m has_images:\n\u001b[32m    133\u001b[39m     \u001b[38;5;28;01mfor\u001b[39;00m a \u001b[38;5;129;01min\u001b[39;00m artists:\n\u001b[32m--> \u001b[39m\u001b[32m134\u001b[39m         \u001b[43ma\u001b[49m\u001b[43m.\u001b[49m\u001b[43mdraw\u001b[49m\u001b[43m(\u001b[49m\u001b[43mrenderer\u001b[49m\u001b[43m)\u001b[49m\n\u001b[32m    135\u001b[39m \u001b[38;5;28;01melse\u001b[39;00m:\n\u001b[32m    136\u001b[39m     \u001b[38;5;66;03m# Composite any adjacent images together\u001b[39;00m\n\u001b[32m    137\u001b[39m     image_group = []\n",
      "\u001b[36mFile \u001b[39m\u001b[32m~/victo/audio_symbolic_regression/audio_symbolic_regression_env/lib/python3.11/site-packages/matplotlib/artist.py:71\u001b[39m, in \u001b[36mallow_rasterization.<locals>.draw_wrapper\u001b[39m\u001b[34m(artist, renderer)\u001b[39m\n\u001b[32m     68\u001b[39m     \u001b[38;5;28;01mif\u001b[39;00m artist.get_agg_filter() \u001b[38;5;129;01mis\u001b[39;00m \u001b[38;5;129;01mnot\u001b[39;00m \u001b[38;5;28;01mNone\u001b[39;00m:\n\u001b[32m     69\u001b[39m         renderer.start_filter()\n\u001b[32m---> \u001b[39m\u001b[32m71\u001b[39m     \u001b[38;5;28;01mreturn\u001b[39;00m \u001b[43mdraw\u001b[49m\u001b[43m(\u001b[49m\u001b[43martist\u001b[49m\u001b[43m,\u001b[49m\u001b[43m \u001b[49m\u001b[43mrenderer\u001b[49m\u001b[43m)\u001b[49m\n\u001b[32m     72\u001b[39m \u001b[38;5;28;01mfinally\u001b[39;00m:\n\u001b[32m     73\u001b[39m     \u001b[38;5;28;01mif\u001b[39;00m artist.get_agg_filter() \u001b[38;5;129;01mis\u001b[39;00m \u001b[38;5;129;01mnot\u001b[39;00m \u001b[38;5;28;01mNone\u001b[39;00m:\n",
      "\u001b[36mFile \u001b[39m\u001b[32m~/victo/audio_symbolic_regression/audio_symbolic_regression_env/lib/python3.11/site-packages/matplotlib/axes/_base.py:3210\u001b[39m, in \u001b[36m_AxesBase.draw\u001b[39m\u001b[34m(self, renderer)\u001b[39m\n\u001b[32m   3207\u001b[39m \u001b[38;5;28;01mif\u001b[39;00m artists_rasterized:\n\u001b[32m   3208\u001b[39m     _draw_rasterized(\u001b[38;5;28mself\u001b[39m.get_figure(root=\u001b[38;5;28;01mTrue\u001b[39;00m), artists_rasterized, renderer)\n\u001b[32m-> \u001b[39m\u001b[32m3210\u001b[39m \u001b[43mmimage\u001b[49m\u001b[43m.\u001b[49m\u001b[43m_draw_list_compositing_images\u001b[49m\u001b[43m(\u001b[49m\n\u001b[32m   3211\u001b[39m \u001b[43m    \u001b[49m\u001b[43mrenderer\u001b[49m\u001b[43m,\u001b[49m\u001b[43m \u001b[49m\u001b[38;5;28;43mself\u001b[39;49m\u001b[43m,\u001b[49m\u001b[43m \u001b[49m\u001b[43martists\u001b[49m\u001b[43m,\u001b[49m\u001b[43m \u001b[49m\u001b[38;5;28;43mself\u001b[39;49m\u001b[43m.\u001b[49m\u001b[43mget_figure\u001b[49m\u001b[43m(\u001b[49m\u001b[43mroot\u001b[49m\u001b[43m=\u001b[49m\u001b[38;5;28;43;01mTrue\u001b[39;49;00m\u001b[43m)\u001b[49m\u001b[43m.\u001b[49m\u001b[43msuppressComposite\u001b[49m\u001b[43m)\u001b[49m\n\u001b[32m   3213\u001b[39m renderer.close_group(\u001b[33m'\u001b[39m\u001b[33maxes\u001b[39m\u001b[33m'\u001b[39m)\n\u001b[32m   3214\u001b[39m \u001b[38;5;28mself\u001b[39m.stale = \u001b[38;5;28;01mFalse\u001b[39;00m\n",
      "\u001b[36mFile \u001b[39m\u001b[32m~/victo/audio_symbolic_regression/audio_symbolic_regression_env/lib/python3.11/site-packages/matplotlib/image.py:134\u001b[39m, in \u001b[36m_draw_list_compositing_images\u001b[39m\u001b[34m(renderer, parent, artists, suppress_composite)\u001b[39m\n\u001b[32m    132\u001b[39m \u001b[38;5;28;01mif\u001b[39;00m not_composite \u001b[38;5;129;01mor\u001b[39;00m \u001b[38;5;129;01mnot\u001b[39;00m has_images:\n\u001b[32m    133\u001b[39m     \u001b[38;5;28;01mfor\u001b[39;00m a \u001b[38;5;129;01min\u001b[39;00m artists:\n\u001b[32m--> \u001b[39m\u001b[32m134\u001b[39m         \u001b[43ma\u001b[49m\u001b[43m.\u001b[49m\u001b[43mdraw\u001b[49m\u001b[43m(\u001b[49m\u001b[43mrenderer\u001b[49m\u001b[43m)\u001b[49m\n\u001b[32m    135\u001b[39m \u001b[38;5;28;01melse\u001b[39;00m:\n\u001b[32m    136\u001b[39m     \u001b[38;5;66;03m# Composite any adjacent images together\u001b[39;00m\n\u001b[32m    137\u001b[39m     image_group = []\n",
      "\u001b[36mFile \u001b[39m\u001b[32m~/victo/audio_symbolic_regression/audio_symbolic_regression_env/lib/python3.11/site-packages/matplotlib/artist.py:71\u001b[39m, in \u001b[36mallow_rasterization.<locals>.draw_wrapper\u001b[39m\u001b[34m(artist, renderer)\u001b[39m\n\u001b[32m     68\u001b[39m     \u001b[38;5;28;01mif\u001b[39;00m artist.get_agg_filter() \u001b[38;5;129;01mis\u001b[39;00m \u001b[38;5;129;01mnot\u001b[39;00m \u001b[38;5;28;01mNone\u001b[39;00m:\n\u001b[32m     69\u001b[39m         renderer.start_filter()\n\u001b[32m---> \u001b[39m\u001b[32m71\u001b[39m     \u001b[38;5;28;01mreturn\u001b[39;00m \u001b[43mdraw\u001b[49m\u001b[43m(\u001b[49m\u001b[43martist\u001b[49m\u001b[43m,\u001b[49m\u001b[43m \u001b[49m\u001b[43mrenderer\u001b[49m\u001b[43m)\u001b[49m\n\u001b[32m     72\u001b[39m \u001b[38;5;28;01mfinally\u001b[39;00m:\n\u001b[32m     73\u001b[39m     \u001b[38;5;28;01mif\u001b[39;00m artist.get_agg_filter() \u001b[38;5;129;01mis\u001b[39;00m \u001b[38;5;129;01mnot\u001b[39;00m \u001b[38;5;28;01mNone\u001b[39;00m:\n",
      "\u001b[36mFile \u001b[39m\u001b[32m~/victo/audio_symbolic_regression/audio_symbolic_regression_env/lib/python3.11/site-packages/matplotlib/axis.py:1404\u001b[39m, in \u001b[36mAxis.draw\u001b[39m\u001b[34m(self, renderer)\u001b[39m\n\u001b[32m   1401\u001b[39m     \u001b[38;5;28;01mreturn\u001b[39;00m\n\u001b[32m   1402\u001b[39m renderer.open_group(\u001b[34m__name__\u001b[39m, gid=\u001b[38;5;28mself\u001b[39m.get_gid())\n\u001b[32m-> \u001b[39m\u001b[32m1404\u001b[39m ticks_to_draw = \u001b[38;5;28;43mself\u001b[39;49m\u001b[43m.\u001b[49m\u001b[43m_update_ticks\u001b[49m\u001b[43m(\u001b[49m\u001b[43m)\u001b[49m\n\u001b[32m   1405\u001b[39m tlb1, tlb2 = \u001b[38;5;28mself\u001b[39m._get_ticklabel_bboxes(ticks_to_draw, renderer)\n\u001b[32m   1407\u001b[39m \u001b[38;5;28;01mfor\u001b[39;00m tick \u001b[38;5;129;01min\u001b[39;00m ticks_to_draw:\n",
      "\u001b[36mFile \u001b[39m\u001b[32m~/victo/audio_symbolic_regression/audio_symbolic_regression_env/lib/python3.11/site-packages/matplotlib/axis.py:1288\u001b[39m, in \u001b[36mAxis._update_ticks\u001b[39m\u001b[34m(self)\u001b[39m\n\u001b[32m   1286\u001b[39m     tick.label1.set_text(label)\n\u001b[32m   1287\u001b[39m     tick.label2.set_text(label)\n\u001b[32m-> \u001b[39m\u001b[32m1288\u001b[39m minor_locs = \u001b[38;5;28;43mself\u001b[39;49m\u001b[43m.\u001b[49m\u001b[43mget_minorticklocs\u001b[49m\u001b[43m(\u001b[49m\u001b[43m)\u001b[49m\n\u001b[32m   1289\u001b[39m minor_labels = \u001b[38;5;28mself\u001b[39m.minor.formatter.format_ticks(minor_locs)\n\u001b[32m   1290\u001b[39m minor_ticks = \u001b[38;5;28mself\u001b[39m.get_minor_ticks(\u001b[38;5;28mlen\u001b[39m(minor_locs))\n",
      "\u001b[36mFile \u001b[39m\u001b[32m~/victo/audio_symbolic_regression/audio_symbolic_regression_env/lib/python3.11/site-packages/matplotlib/axis.py:1530\u001b[39m, in \u001b[36mAxis.get_minorticklocs\u001b[39m\u001b[34m(self)\u001b[39m\n\u001b[32m   1528\u001b[39m \u001b[38;5;250m\u001b[39m\u001b[33;03m\"\"\"Return this Axis' minor tick locations in data coordinates.\"\"\"\u001b[39;00m\n\u001b[32m   1529\u001b[39m \u001b[38;5;66;03m# Remove minor ticks duplicating major ticks.\u001b[39;00m\n\u001b[32m-> \u001b[39m\u001b[32m1530\u001b[39m minor_locs = np.asarray(\u001b[38;5;28;43mself\u001b[39;49m\u001b[43m.\u001b[49m\u001b[43mminor\u001b[49m\u001b[43m.\u001b[49m\u001b[43mlocator\u001b[49m\u001b[43m(\u001b[49m\u001b[43m)\u001b[49m)\n\u001b[32m   1531\u001b[39m \u001b[38;5;28;01mif\u001b[39;00m \u001b[38;5;28mself\u001b[39m.remove_overlapping_locs:\n\u001b[32m   1532\u001b[39m     major_locs = \u001b[38;5;28mself\u001b[39m.major.locator()\n",
      "\u001b[36mFile \u001b[39m\u001b[32m~/victo/audio_symbolic_regression/audio_symbolic_regression_env/lib/python3.11/site-packages/matplotlib/ticker.py:2401\u001b[39m, in \u001b[36mLogLocator.__call__\u001b[39m\u001b[34m(self)\u001b[39m\n\u001b[32m   2399\u001b[39m \u001b[38;5;250m\u001b[39m\u001b[33;03m\"\"\"Return the locations of the ticks.\"\"\"\u001b[39;00m\n\u001b[32m   2400\u001b[39m vmin, vmax = \u001b[38;5;28mself\u001b[39m.axis.get_view_interval()\n\u001b[32m-> \u001b[39m\u001b[32m2401\u001b[39m \u001b[38;5;28;01mreturn\u001b[39;00m \u001b[38;5;28;43mself\u001b[39;49m\u001b[43m.\u001b[49m\u001b[43mtick_values\u001b[49m\u001b[43m(\u001b[49m\u001b[43mvmin\u001b[49m\u001b[43m,\u001b[49m\u001b[43m \u001b[49m\u001b[43mvmax\u001b[49m\u001b[43m)\u001b[49m\n",
      "\u001b[36mFile \u001b[39m\u001b[32m~/victo/audio_symbolic_regression/audio_symbolic_regression_env/lib/python3.11/site-packages/matplotlib/ticker.py:2425\u001b[39m, in \u001b[36mLogLocator.tick_values\u001b[39m\u001b[34m(self, vmin, vmax)\u001b[39m\n\u001b[32m   2423\u001b[39m \u001b[38;5;28;01mif\u001b[39;00m vmax < vmin:\n\u001b[32m   2424\u001b[39m     vmin, vmax = vmax, vmin\n\u001b[32m-> \u001b[39m\u001b[32m2425\u001b[39m log_vmin = \u001b[43mmath\u001b[49m\u001b[43m.\u001b[49m\u001b[43mlog\u001b[49m\u001b[43m(\u001b[49m\u001b[43mvmin\u001b[49m\u001b[43m)\u001b[49m / math.log(b)\n\u001b[32m   2426\u001b[39m log_vmax = math.log(vmax) / math.log(b)\n\u001b[32m   2428\u001b[39m numdec = math.floor(log_vmax) - math.ceil(log_vmin)\n",
      "\u001b[31mValueError\u001b[39m: math domain error"
     ]
    },
    {
     "ename": "ValueError",
     "evalue": "math domain error",
     "output_type": "error",
     "traceback": [
      "\u001b[31m---------------------------------------------------------------------------\u001b[39m",
      "\u001b[31mValueError\u001b[39m                                Traceback (most recent call last)",
      "\u001b[36mFile \u001b[39m\u001b[32m~/victo/audio_symbolic_regression/audio_symbolic_regression_env/lib/python3.11/site-packages/IPython/core/formatters.py:402\u001b[39m, in \u001b[36mBaseFormatter.__call__\u001b[39m\u001b[34m(self, obj)\u001b[39m\n\u001b[32m    400\u001b[39m     \u001b[38;5;28;01mpass\u001b[39;00m\n\u001b[32m    401\u001b[39m \u001b[38;5;28;01melse\u001b[39;00m:\n\u001b[32m--> \u001b[39m\u001b[32m402\u001b[39m     \u001b[38;5;28;01mreturn\u001b[39;00m \u001b[43mprinter\u001b[49m\u001b[43m(\u001b[49m\u001b[43mobj\u001b[49m\u001b[43m)\u001b[49m\n\u001b[32m    403\u001b[39m \u001b[38;5;66;03m# Finally look for special method names\u001b[39;00m\n\u001b[32m    404\u001b[39m method = get_real_method(obj, \u001b[38;5;28mself\u001b[39m.print_method)\n",
      "\u001b[36mFile \u001b[39m\u001b[32m~/victo/audio_symbolic_regression/audio_symbolic_regression_env/lib/python3.11/site-packages/IPython/core/pylabtools.py:170\u001b[39m, in \u001b[36mprint_figure\u001b[39m\u001b[34m(fig, fmt, bbox_inches, base64, **kwargs)\u001b[39m\n\u001b[32m    167\u001b[39m     \u001b[38;5;28;01mfrom\u001b[39;00m\u001b[38;5;250m \u001b[39m\u001b[34;01mmatplotlib\u001b[39;00m\u001b[34;01m.\u001b[39;00m\u001b[34;01mbackend_bases\u001b[39;00m\u001b[38;5;250m \u001b[39m\u001b[38;5;28;01mimport\u001b[39;00m FigureCanvasBase\n\u001b[32m    168\u001b[39m     FigureCanvasBase(fig)\n\u001b[32m--> \u001b[39m\u001b[32m170\u001b[39m \u001b[43mfig\u001b[49m\u001b[43m.\u001b[49m\u001b[43mcanvas\u001b[49m\u001b[43m.\u001b[49m\u001b[43mprint_figure\u001b[49m\u001b[43m(\u001b[49m\u001b[43mbytes_io\u001b[49m\u001b[43m,\u001b[49m\u001b[43m \u001b[49m\u001b[43m*\u001b[49m\u001b[43m*\u001b[49m\u001b[43mkw\u001b[49m\u001b[43m)\u001b[49m\n\u001b[32m    171\u001b[39m data = bytes_io.getvalue()\n\u001b[32m    172\u001b[39m \u001b[38;5;28;01mif\u001b[39;00m fmt == \u001b[33m'\u001b[39m\u001b[33msvg\u001b[39m\u001b[33m'\u001b[39m:\n",
      "\u001b[36mFile \u001b[39m\u001b[32m~/victo/audio_symbolic_regression/audio_symbolic_regression_env/lib/python3.11/site-packages/matplotlib/backend_bases.py:2155\u001b[39m, in \u001b[36mFigureCanvasBase.print_figure\u001b[39m\u001b[34m(self, filename, dpi, facecolor, edgecolor, orientation, format, bbox_inches, pad_inches, bbox_extra_artists, backend, **kwargs)\u001b[39m\n\u001b[32m   2152\u001b[39m     \u001b[38;5;66;03m# we do this instead of `self.figure.draw_without_rendering`\u001b[39;00m\n\u001b[32m   2153\u001b[39m     \u001b[38;5;66;03m# so that we can inject the orientation\u001b[39;00m\n\u001b[32m   2154\u001b[39m     \u001b[38;5;28;01mwith\u001b[39;00m \u001b[38;5;28mgetattr\u001b[39m(renderer, \u001b[33m\"\u001b[39m\u001b[33m_draw_disabled\u001b[39m\u001b[33m\"\u001b[39m, nullcontext)():\n\u001b[32m-> \u001b[39m\u001b[32m2155\u001b[39m         \u001b[38;5;28;43mself\u001b[39;49m\u001b[43m.\u001b[49m\u001b[43mfigure\u001b[49m\u001b[43m.\u001b[49m\u001b[43mdraw\u001b[49m\u001b[43m(\u001b[49m\u001b[43mrenderer\u001b[49m\u001b[43m)\u001b[49m\n\u001b[32m   2156\u001b[39m \u001b[38;5;28;01mif\u001b[39;00m bbox_inches:\n\u001b[32m   2157\u001b[39m     \u001b[38;5;28;01mif\u001b[39;00m bbox_inches == \u001b[33m\"\u001b[39m\u001b[33mtight\u001b[39m\u001b[33m\"\u001b[39m:\n",
      "\u001b[36mFile \u001b[39m\u001b[32m~/victo/audio_symbolic_regression/audio_symbolic_regression_env/lib/python3.11/site-packages/matplotlib/artist.py:94\u001b[39m, in \u001b[36m_finalize_rasterization.<locals>.draw_wrapper\u001b[39m\u001b[34m(artist, renderer, *args, **kwargs)\u001b[39m\n\u001b[32m     92\u001b[39m \u001b[38;5;129m@wraps\u001b[39m(draw)\n\u001b[32m     93\u001b[39m \u001b[38;5;28;01mdef\u001b[39;00m\u001b[38;5;250m \u001b[39m\u001b[34mdraw_wrapper\u001b[39m(artist, renderer, *args, **kwargs):\n\u001b[32m---> \u001b[39m\u001b[32m94\u001b[39m     result = \u001b[43mdraw\u001b[49m\u001b[43m(\u001b[49m\u001b[43martist\u001b[49m\u001b[43m,\u001b[49m\u001b[43m \u001b[49m\u001b[43mrenderer\u001b[49m\u001b[43m,\u001b[49m\u001b[43m \u001b[49m\u001b[43m*\u001b[49m\u001b[43margs\u001b[49m\u001b[43m,\u001b[49m\u001b[43m \u001b[49m\u001b[43m*\u001b[49m\u001b[43m*\u001b[49m\u001b[43mkwargs\u001b[49m\u001b[43m)\u001b[49m\n\u001b[32m     95\u001b[39m     \u001b[38;5;28;01mif\u001b[39;00m renderer._rasterizing:\n\u001b[32m     96\u001b[39m         renderer.stop_rasterizing()\n",
      "\u001b[36mFile \u001b[39m\u001b[32m~/victo/audio_symbolic_regression/audio_symbolic_regression_env/lib/python3.11/site-packages/matplotlib/artist.py:71\u001b[39m, in \u001b[36mallow_rasterization.<locals>.draw_wrapper\u001b[39m\u001b[34m(artist, renderer)\u001b[39m\n\u001b[32m     68\u001b[39m     \u001b[38;5;28;01mif\u001b[39;00m artist.get_agg_filter() \u001b[38;5;129;01mis\u001b[39;00m \u001b[38;5;129;01mnot\u001b[39;00m \u001b[38;5;28;01mNone\u001b[39;00m:\n\u001b[32m     69\u001b[39m         renderer.start_filter()\n\u001b[32m---> \u001b[39m\u001b[32m71\u001b[39m     \u001b[38;5;28;01mreturn\u001b[39;00m \u001b[43mdraw\u001b[49m\u001b[43m(\u001b[49m\u001b[43martist\u001b[49m\u001b[43m,\u001b[49m\u001b[43m \u001b[49m\u001b[43mrenderer\u001b[49m\u001b[43m)\u001b[49m\n\u001b[32m     72\u001b[39m \u001b[38;5;28;01mfinally\u001b[39;00m:\n\u001b[32m     73\u001b[39m     \u001b[38;5;28;01mif\u001b[39;00m artist.get_agg_filter() \u001b[38;5;129;01mis\u001b[39;00m \u001b[38;5;129;01mnot\u001b[39;00m \u001b[38;5;28;01mNone\u001b[39;00m:\n",
      "\u001b[36mFile \u001b[39m\u001b[32m~/victo/audio_symbolic_regression/audio_symbolic_regression_env/lib/python3.11/site-packages/matplotlib/figure.py:3257\u001b[39m, in \u001b[36mFigure.draw\u001b[39m\u001b[34m(self, renderer)\u001b[39m\n\u001b[32m   3254\u001b[39m             \u001b[38;5;66;03m# ValueError can occur when resizing a window.\u001b[39;00m\n\u001b[32m   3256\u001b[39m     \u001b[38;5;28mself\u001b[39m.patch.draw(renderer)\n\u001b[32m-> \u001b[39m\u001b[32m3257\u001b[39m     \u001b[43mmimage\u001b[49m\u001b[43m.\u001b[49m\u001b[43m_draw_list_compositing_images\u001b[49m\u001b[43m(\u001b[49m\n\u001b[32m   3258\u001b[39m \u001b[43m        \u001b[49m\u001b[43mrenderer\u001b[49m\u001b[43m,\u001b[49m\u001b[43m \u001b[49m\u001b[38;5;28;43mself\u001b[39;49m\u001b[43m,\u001b[49m\u001b[43m \u001b[49m\u001b[43martists\u001b[49m\u001b[43m,\u001b[49m\u001b[43m \u001b[49m\u001b[38;5;28;43mself\u001b[39;49m\u001b[43m.\u001b[49m\u001b[43msuppressComposite\u001b[49m\u001b[43m)\u001b[49m\n\u001b[32m   3260\u001b[39m     renderer.close_group(\u001b[33m'\u001b[39m\u001b[33mfigure\u001b[39m\u001b[33m'\u001b[39m)\n\u001b[32m   3261\u001b[39m \u001b[38;5;28;01mfinally\u001b[39;00m:\n",
      "\u001b[36mFile \u001b[39m\u001b[32m~/victo/audio_symbolic_regression/audio_symbolic_regression_env/lib/python3.11/site-packages/matplotlib/image.py:134\u001b[39m, in \u001b[36m_draw_list_compositing_images\u001b[39m\u001b[34m(renderer, parent, artists, suppress_composite)\u001b[39m\n\u001b[32m    132\u001b[39m \u001b[38;5;28;01mif\u001b[39;00m not_composite \u001b[38;5;129;01mor\u001b[39;00m \u001b[38;5;129;01mnot\u001b[39;00m has_images:\n\u001b[32m    133\u001b[39m     \u001b[38;5;28;01mfor\u001b[39;00m a \u001b[38;5;129;01min\u001b[39;00m artists:\n\u001b[32m--> \u001b[39m\u001b[32m134\u001b[39m         \u001b[43ma\u001b[49m\u001b[43m.\u001b[49m\u001b[43mdraw\u001b[49m\u001b[43m(\u001b[49m\u001b[43mrenderer\u001b[49m\u001b[43m)\u001b[49m\n\u001b[32m    135\u001b[39m \u001b[38;5;28;01melse\u001b[39;00m:\n\u001b[32m    136\u001b[39m     \u001b[38;5;66;03m# Composite any adjacent images together\u001b[39;00m\n\u001b[32m    137\u001b[39m     image_group = []\n",
      "\u001b[36mFile \u001b[39m\u001b[32m~/victo/audio_symbolic_regression/audio_symbolic_regression_env/lib/python3.11/site-packages/matplotlib/artist.py:71\u001b[39m, in \u001b[36mallow_rasterization.<locals>.draw_wrapper\u001b[39m\u001b[34m(artist, renderer)\u001b[39m\n\u001b[32m     68\u001b[39m     \u001b[38;5;28;01mif\u001b[39;00m artist.get_agg_filter() \u001b[38;5;129;01mis\u001b[39;00m \u001b[38;5;129;01mnot\u001b[39;00m \u001b[38;5;28;01mNone\u001b[39;00m:\n\u001b[32m     69\u001b[39m         renderer.start_filter()\n\u001b[32m---> \u001b[39m\u001b[32m71\u001b[39m     \u001b[38;5;28;01mreturn\u001b[39;00m \u001b[43mdraw\u001b[49m\u001b[43m(\u001b[49m\u001b[43martist\u001b[49m\u001b[43m,\u001b[49m\u001b[43m \u001b[49m\u001b[43mrenderer\u001b[49m\u001b[43m)\u001b[49m\n\u001b[32m     72\u001b[39m \u001b[38;5;28;01mfinally\u001b[39;00m:\n\u001b[32m     73\u001b[39m     \u001b[38;5;28;01mif\u001b[39;00m artist.get_agg_filter() \u001b[38;5;129;01mis\u001b[39;00m \u001b[38;5;129;01mnot\u001b[39;00m \u001b[38;5;28;01mNone\u001b[39;00m:\n",
      "\u001b[36mFile \u001b[39m\u001b[32m~/victo/audio_symbolic_regression/audio_symbolic_regression_env/lib/python3.11/site-packages/matplotlib/axes/_base.py:3210\u001b[39m, in \u001b[36m_AxesBase.draw\u001b[39m\u001b[34m(self, renderer)\u001b[39m\n\u001b[32m   3207\u001b[39m \u001b[38;5;28;01mif\u001b[39;00m artists_rasterized:\n\u001b[32m   3208\u001b[39m     _draw_rasterized(\u001b[38;5;28mself\u001b[39m.get_figure(root=\u001b[38;5;28;01mTrue\u001b[39;00m), artists_rasterized, renderer)\n\u001b[32m-> \u001b[39m\u001b[32m3210\u001b[39m \u001b[43mmimage\u001b[49m\u001b[43m.\u001b[49m\u001b[43m_draw_list_compositing_images\u001b[49m\u001b[43m(\u001b[49m\n\u001b[32m   3211\u001b[39m \u001b[43m    \u001b[49m\u001b[43mrenderer\u001b[49m\u001b[43m,\u001b[49m\u001b[43m \u001b[49m\u001b[38;5;28;43mself\u001b[39;49m\u001b[43m,\u001b[49m\u001b[43m \u001b[49m\u001b[43martists\u001b[49m\u001b[43m,\u001b[49m\u001b[43m \u001b[49m\u001b[38;5;28;43mself\u001b[39;49m\u001b[43m.\u001b[49m\u001b[43mget_figure\u001b[49m\u001b[43m(\u001b[49m\u001b[43mroot\u001b[49m\u001b[43m=\u001b[49m\u001b[38;5;28;43;01mTrue\u001b[39;49;00m\u001b[43m)\u001b[49m\u001b[43m.\u001b[49m\u001b[43msuppressComposite\u001b[49m\u001b[43m)\u001b[49m\n\u001b[32m   3213\u001b[39m renderer.close_group(\u001b[33m'\u001b[39m\u001b[33maxes\u001b[39m\u001b[33m'\u001b[39m)\n\u001b[32m   3214\u001b[39m \u001b[38;5;28mself\u001b[39m.stale = \u001b[38;5;28;01mFalse\u001b[39;00m\n",
      "\u001b[36mFile \u001b[39m\u001b[32m~/victo/audio_symbolic_regression/audio_symbolic_regression_env/lib/python3.11/site-packages/matplotlib/image.py:134\u001b[39m, in \u001b[36m_draw_list_compositing_images\u001b[39m\u001b[34m(renderer, parent, artists, suppress_composite)\u001b[39m\n\u001b[32m    132\u001b[39m \u001b[38;5;28;01mif\u001b[39;00m not_composite \u001b[38;5;129;01mor\u001b[39;00m \u001b[38;5;129;01mnot\u001b[39;00m has_images:\n\u001b[32m    133\u001b[39m     \u001b[38;5;28;01mfor\u001b[39;00m a \u001b[38;5;129;01min\u001b[39;00m artists:\n\u001b[32m--> \u001b[39m\u001b[32m134\u001b[39m         \u001b[43ma\u001b[49m\u001b[43m.\u001b[49m\u001b[43mdraw\u001b[49m\u001b[43m(\u001b[49m\u001b[43mrenderer\u001b[49m\u001b[43m)\u001b[49m\n\u001b[32m    135\u001b[39m \u001b[38;5;28;01melse\u001b[39;00m:\n\u001b[32m    136\u001b[39m     \u001b[38;5;66;03m# Composite any adjacent images together\u001b[39;00m\n\u001b[32m    137\u001b[39m     image_group = []\n",
      "\u001b[36mFile \u001b[39m\u001b[32m~/victo/audio_symbolic_regression/audio_symbolic_regression_env/lib/python3.11/site-packages/matplotlib/artist.py:71\u001b[39m, in \u001b[36mallow_rasterization.<locals>.draw_wrapper\u001b[39m\u001b[34m(artist, renderer)\u001b[39m\n\u001b[32m     68\u001b[39m     \u001b[38;5;28;01mif\u001b[39;00m artist.get_agg_filter() \u001b[38;5;129;01mis\u001b[39;00m \u001b[38;5;129;01mnot\u001b[39;00m \u001b[38;5;28;01mNone\u001b[39;00m:\n\u001b[32m     69\u001b[39m         renderer.start_filter()\n\u001b[32m---> \u001b[39m\u001b[32m71\u001b[39m     \u001b[38;5;28;01mreturn\u001b[39;00m \u001b[43mdraw\u001b[49m\u001b[43m(\u001b[49m\u001b[43martist\u001b[49m\u001b[43m,\u001b[49m\u001b[43m \u001b[49m\u001b[43mrenderer\u001b[49m\u001b[43m)\u001b[49m\n\u001b[32m     72\u001b[39m \u001b[38;5;28;01mfinally\u001b[39;00m:\n\u001b[32m     73\u001b[39m     \u001b[38;5;28;01mif\u001b[39;00m artist.get_agg_filter() \u001b[38;5;129;01mis\u001b[39;00m \u001b[38;5;129;01mnot\u001b[39;00m \u001b[38;5;28;01mNone\u001b[39;00m:\n",
      "\u001b[36mFile \u001b[39m\u001b[32m~/victo/audio_symbolic_regression/audio_symbolic_regression_env/lib/python3.11/site-packages/matplotlib/axis.py:1404\u001b[39m, in \u001b[36mAxis.draw\u001b[39m\u001b[34m(self, renderer)\u001b[39m\n\u001b[32m   1401\u001b[39m     \u001b[38;5;28;01mreturn\u001b[39;00m\n\u001b[32m   1402\u001b[39m renderer.open_group(\u001b[34m__name__\u001b[39m, gid=\u001b[38;5;28mself\u001b[39m.get_gid())\n\u001b[32m-> \u001b[39m\u001b[32m1404\u001b[39m ticks_to_draw = \u001b[38;5;28;43mself\u001b[39;49m\u001b[43m.\u001b[49m\u001b[43m_update_ticks\u001b[49m\u001b[43m(\u001b[49m\u001b[43m)\u001b[49m\n\u001b[32m   1405\u001b[39m tlb1, tlb2 = \u001b[38;5;28mself\u001b[39m._get_ticklabel_bboxes(ticks_to_draw, renderer)\n\u001b[32m   1407\u001b[39m \u001b[38;5;28;01mfor\u001b[39;00m tick \u001b[38;5;129;01min\u001b[39;00m ticks_to_draw:\n",
      "\u001b[36mFile \u001b[39m\u001b[32m~/victo/audio_symbolic_regression/audio_symbolic_regression_env/lib/python3.11/site-packages/matplotlib/axis.py:1288\u001b[39m, in \u001b[36mAxis._update_ticks\u001b[39m\u001b[34m(self)\u001b[39m\n\u001b[32m   1286\u001b[39m     tick.label1.set_text(label)\n\u001b[32m   1287\u001b[39m     tick.label2.set_text(label)\n\u001b[32m-> \u001b[39m\u001b[32m1288\u001b[39m minor_locs = \u001b[38;5;28;43mself\u001b[39;49m\u001b[43m.\u001b[49m\u001b[43mget_minorticklocs\u001b[49m\u001b[43m(\u001b[49m\u001b[43m)\u001b[49m\n\u001b[32m   1289\u001b[39m minor_labels = \u001b[38;5;28mself\u001b[39m.minor.formatter.format_ticks(minor_locs)\n\u001b[32m   1290\u001b[39m minor_ticks = \u001b[38;5;28mself\u001b[39m.get_minor_ticks(\u001b[38;5;28mlen\u001b[39m(minor_locs))\n",
      "\u001b[36mFile \u001b[39m\u001b[32m~/victo/audio_symbolic_regression/audio_symbolic_regression_env/lib/python3.11/site-packages/matplotlib/axis.py:1530\u001b[39m, in \u001b[36mAxis.get_minorticklocs\u001b[39m\u001b[34m(self)\u001b[39m\n\u001b[32m   1528\u001b[39m \u001b[38;5;250m\u001b[39m\u001b[33;03m\"\"\"Return this Axis' minor tick locations in data coordinates.\"\"\"\u001b[39;00m\n\u001b[32m   1529\u001b[39m \u001b[38;5;66;03m# Remove minor ticks duplicating major ticks.\u001b[39;00m\n\u001b[32m-> \u001b[39m\u001b[32m1530\u001b[39m minor_locs = np.asarray(\u001b[38;5;28;43mself\u001b[39;49m\u001b[43m.\u001b[49m\u001b[43mminor\u001b[49m\u001b[43m.\u001b[49m\u001b[43mlocator\u001b[49m\u001b[43m(\u001b[49m\u001b[43m)\u001b[49m)\n\u001b[32m   1531\u001b[39m \u001b[38;5;28;01mif\u001b[39;00m \u001b[38;5;28mself\u001b[39m.remove_overlapping_locs:\n\u001b[32m   1532\u001b[39m     major_locs = \u001b[38;5;28mself\u001b[39m.major.locator()\n",
      "\u001b[36mFile \u001b[39m\u001b[32m~/victo/audio_symbolic_regression/audio_symbolic_regression_env/lib/python3.11/site-packages/matplotlib/ticker.py:2401\u001b[39m, in \u001b[36mLogLocator.__call__\u001b[39m\u001b[34m(self)\u001b[39m\n\u001b[32m   2399\u001b[39m \u001b[38;5;250m\u001b[39m\u001b[33;03m\"\"\"Return the locations of the ticks.\"\"\"\u001b[39;00m\n\u001b[32m   2400\u001b[39m vmin, vmax = \u001b[38;5;28mself\u001b[39m.axis.get_view_interval()\n\u001b[32m-> \u001b[39m\u001b[32m2401\u001b[39m \u001b[38;5;28;01mreturn\u001b[39;00m \u001b[38;5;28;43mself\u001b[39;49m\u001b[43m.\u001b[49m\u001b[43mtick_values\u001b[49m\u001b[43m(\u001b[49m\u001b[43mvmin\u001b[49m\u001b[43m,\u001b[49m\u001b[43m \u001b[49m\u001b[43mvmax\u001b[49m\u001b[43m)\u001b[49m\n",
      "\u001b[36mFile \u001b[39m\u001b[32m~/victo/audio_symbolic_regression/audio_symbolic_regression_env/lib/python3.11/site-packages/matplotlib/ticker.py:2425\u001b[39m, in \u001b[36mLogLocator.tick_values\u001b[39m\u001b[34m(self, vmin, vmax)\u001b[39m\n\u001b[32m   2423\u001b[39m \u001b[38;5;28;01mif\u001b[39;00m vmax < vmin:\n\u001b[32m   2424\u001b[39m     vmin, vmax = vmax, vmin\n\u001b[32m-> \u001b[39m\u001b[32m2425\u001b[39m log_vmin = \u001b[43mmath\u001b[49m\u001b[43m.\u001b[49m\u001b[43mlog\u001b[49m\u001b[43m(\u001b[49m\u001b[43mvmin\u001b[49m\u001b[43m)\u001b[49m / math.log(b)\n\u001b[32m   2426\u001b[39m log_vmax = math.log(vmax) / math.log(b)\n\u001b[32m   2428\u001b[39m numdec = math.floor(log_vmax) - math.ceil(log_vmin)\n",
      "\u001b[31mValueError\u001b[39m: math domain error"
     ]
    },
    {
     "data": {
      "text/plain": [
       "<Figure size 640x480 with 1 Axes>"
      ]
     },
     "metadata": {},
     "output_type": "display_data"
    }
   ],
   "source": [
    "features = \"mfcc\"\n",
    "models = {\n",
    "    \"Random Forest\":       RandomForestClassifier(n_estimators=100, random_state=42),\n",
    "    \"Decision Tree\":       DecisionTreeClassifier(random_state=42),\n",
    "    \"Logistic Regression\": LogisticRegression(max_iter=1000, random_state=42),\n",
    "    \"LightGBM\":            LGBMClassifier(random_state=42, verbose=-1, verbosity=-1),\n",
    "    \"MLP (Neural Network)\":MLPClassifier(hidden_layer_sizes=(100,), max_iter=500, random_state=42),\n",
    "    \"SVM\":                 SVC(probability=True, random_state=42)\n",
    "}\n",
    "\n",
    "print(\"Training and evaluating models with multiple seeds…\\n\")\n",
    "\n",
    "for name, model in models.items():\n",
    "    print(f\"--- {name} ---\")\n",
    "    safe_name = name.replace(\" \", \"_\").replace(\"(\", \"\").replace(\")\", \"\")\n",
    "    model_dir = os.path.join(base_dir, safe_name) + \"_\" + features\n",
    "    os.makedirs(model_dir, exist_ok=True)\n",
    "\n",
    "    all_fpr_tr, all_fnr_tr = [], []\n",
    "    all_fpr_ts, all_fnr_ts = [], []\n",
    "\n",
    "    for seed in SEEDS:\n",
    "        model.set_params(random_state=seed)\n",
    "\n",
    "        # Train\n",
    "        t0 = time.time()\n",
    "        model.fit(X_train_sub, y_train_sub)\n",
    "        train_time = time.time() - t0\n",
    "\n",
    "        # Eval TRAIN\n",
    "        y_pred_tr = model.predict(X_train_sub)\n",
    "        scores_tr = (model.predict_proba(X_train_sub)[:,1]\n",
    "                     if hasattr(model, \"predict_proba\")\n",
    "                     else model.decision_function(X_train_sub))\n",
    "        fpr_tr, fnr_tr, _ = det_curve(y_train_sub, scores_tr)\n",
    "        eer_tr = fpr_tr[np.nanargmin(np.abs(fnr_tr - fpr_tr))]\n",
    "\n",
    "        # Eval TEST\n",
    "        y_pred_ts = model.predict(X_test_sub)\n",
    "        scores_ts = (model.predict_proba(X_test_sub)[:,1]\n",
    "                     if hasattr(model, \"predict_proba\")\n",
    "                     else model.decision_function(X_test_sub))\n",
    "        fpr_ts, fnr_ts, _ = det_curve(y_test_sub, scores_ts)\n",
    "        eer_ts = fpr_ts[np.nanargmin(np.abs(fnr_ts - fpr_ts))]\n",
    "\n",
    "        # Append metrics, now including EER_train\n",
    "        pd.DataFrame([{\n",
    "            \"Model\": name,\n",
    "            \"Training Time (sec)\": round(train_time, 2),\n",
    "            \"Accuracy\": round(accuracy_score(y_test_sub, y_pred_ts), 4),\n",
    "            \"EER_train\": round(eer_tr, 4),\n",
    "            \"EER\": round(eer_ts, 4)\n",
    "        }]).to_csv(test_csv, mode=\"a\", header=False, index=False)\n",
    "\n",
    "        print(f\"seed {seed:02d} → train EER {eer_tr:.3f}, test EER {eer_ts:.3f}\")\n",
    "\n",
    "        # save model\n",
    "        path = os.path.join(model_dir, f\"model_seed_{seed:02d}.pkl\")\n",
    "        with open(path, \"wb\") as f:\n",
    "            pickle.dump(model, f)\n",
    "\n",
    "        # accumulate for mean DET\n",
    "        all_fpr_tr.append(fpr_tr); all_fnr_tr.append(fnr_tr)\n",
    "        all_fpr_ts.append(fpr_ts); all_fnr_ts.append(fnr_ts)\n",
    "\n",
    "    # --- compute & plot mean DET as shown above ---\n",
    "    all_fprs = np.hstack(all_fpr_tr + all_fpr_ts)\n",
    "    min_pos, max_val = all_fprs[all_fprs>0].min(), all_fprs.max()\n",
    "    grid = np.logspace(np.log10(min_pos), np.log10(max_val), num=100)\n",
    "\n",
    "    interp_fnr_tr = np.vstack([np.interp(grid, f, fn) for f,fn in zip(all_fpr_tr, all_fnr_tr)])\n",
    "    interp_fnr_ts = np.vstack([np.interp(grid, f, fn) for f,fn in zip(all_fpr_ts, all_fnr_ts)])\n",
    "    mean_fnr_tr, mean_fnr_ts = interp_fnr_tr.mean(0), interp_fnr_ts.mean(0)\n",
    "\n",
    "    plot_nist_det(\n",
    "        grid, mean_fnr_tr,\n",
    "        grid, mean_fnr_ts,\n",
    "        title=f\"Mean DET Curve – {name}\"\n",
    "    )"
   ]
  },
  {
   "cell_type": "code",
   "execution_count": null,
   "id": "e410f0b0",
   "metadata": {},
   "outputs": [],
   "source": []
  }
 ],
 "metadata": {
  "kernelspec": {
   "display_name": "audio_symbolic_regression_env",
   "language": "python",
   "name": "python3"
  },
  "language_info": {
   "codemirror_mode": {
    "name": "ipython",
    "version": 3
   },
   "file_extension": ".py",
   "mimetype": "text/x-python",
   "name": "python",
   "nbconvert_exporter": "python",
   "pygments_lexer": "ipython3",
   "version": "3.11.4"
  }
 },
 "nbformat": 4,
 "nbformat_minor": 5
}
